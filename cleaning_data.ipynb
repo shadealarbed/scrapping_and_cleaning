{
 "cells": [
  {
   "cell_type": "code",
   "execution_count": 1,
   "metadata": {},
   "outputs": [],
   "source": [
    "import pandas as pd\n",
    "import ast"
   ]
  },
  {
   "cell_type": "code",
   "execution_count": 114,
   "metadata": {},
   "outputs": [],
   "source": [
    "df = pd.read_csv(r\"C:\\Users\\shade alarbed\\Downloads\\salon data\\salon_infos_sharjah.csv\")"
   ]
  },
  {
   "cell_type": "code",
   "execution_count": 119,
   "metadata": {},
   "outputs": [
    {
     "data": {
      "text/plain": [
       "\"['Memberships', 'Vouchers', 'Monday', 'Tuesday', 'Thursday', 'Friday', 'Saturday', 'Sunday', 'Instant Confirmation', 'Pay by app', 'Al Jada, East Boulevard, Misk, 1 Building, Sharjah Get directions', 'Al Jada, East Boulevard, Misk, 1 Building, Sharjah Get directions', 'Memberships', 'Vouchers']\""
      ]
     },
     "execution_count": 119,
     "metadata": {},
     "output_type": "execute_result"
    }
   ],
   "source": [
    "df[\"day_opens\"][0]"
   ]
  },
  {
   "cell_type": "code",
   "execution_count": 116,
   "metadata": {},
   "outputs": [
    {
     "data": {
      "text/plain": [
       "\"['10:00am - 10:00pm', '10:00am - 10:00pm', '10:00am - 10:00pm', '10:00am - 10:00pm', '10:00am - 10:00pm', '10:00am - 10:00pm']\""
      ]
     },
     "execution_count": 116,
     "metadata": {},
     "output_type": "execute_result"
    }
   ],
   "source": [
    "df[\"time_opens\"][0]"
   ]
  },
  {
   "cell_type": "code",
   "execution_count": 12,
   "metadata": {},
   "outputs": [],
   "source": [
    "data = df[\"day_opens\"][0]"
   ]
  },
  {
   "cell_type": "code",
   "execution_count": 24,
   "metadata": {},
   "outputs": [
    {
     "data": {
      "text/plain": [
       "\"['Memberships', 'Vouchers', 'Monday', 'Tuesday', 'Thursday', 'Friday', 'Saturday', 'Sunday', 'Instant Confirmation', 'Pay by app', 'Ground Floor, Trident Grand Residence, Al Mamsha Street, Dubai Marina , Dubai Get directions', 'Ground Floor, Trident Grand Residence, Al Mamsha Street, Dubai Marina , Dubai Get directions', 'Memberships', 'Vouchers']\""
      ]
     },
     "execution_count": 24,
     "metadata": {},
     "output_type": "execute_result"
    }
   ],
   "source": [
    "data"
   ]
  },
  {
   "cell_type": "code",
   "execution_count": 4,
   "metadata": {},
   "outputs": [
    {
     "ename": "NameError",
     "evalue": "name 'data' is not defined",
     "output_type": "error",
     "traceback": [
      "\u001b[1;31m---------------------------------------------------------------------------\u001b[0m",
      "\u001b[1;31mNameError\u001b[0m                                 Traceback (most recent call last)",
      "\u001b[1;32m<ipython-input-4-bc8aca30e3fd>\u001b[0m in \u001b[0;36m<module>\u001b[1;34m\u001b[0m\n\u001b[1;32m----> 1\u001b[1;33m \u001b[0mdata_list\u001b[0m \u001b[1;33m=\u001b[0m \u001b[0mast\u001b[0m\u001b[1;33m.\u001b[0m\u001b[0mliteral_eval\u001b[0m\u001b[1;33m(\u001b[0m\u001b[0mdata\u001b[0m\u001b[1;33m)\u001b[0m\u001b[1;33m\u001b[0m\u001b[1;33m\u001b[0m\u001b[0m\n\u001b[0m",
      "\u001b[1;31mNameError\u001b[0m: name 'data' is not defined"
     ]
    }
   ],
   "source": [
    "\n",
    "data_list = ast.literal_eval(data)"
   ]
  },
  {
   "cell_type": "code",
   "execution_count": 29,
   "metadata": {},
   "outputs": [
    {
     "data": {
      "text/plain": [
       "['Memberships',\n",
       " 'Vouchers',\n",
       " 'Monday',\n",
       " 'Tuesday',\n",
       " 'Thursday',\n",
       " 'Friday',\n",
       " 'Saturday',\n",
       " 'Sunday',\n",
       " 'Instant Confirmation',\n",
       " 'Pay by app',\n",
       " 'Ground Floor, Trident Grand Residence, Al Mamsha Street, Dubai Marina , Dubai Get directions',\n",
       " 'Ground Floor, Trident Grand Residence, Al Mamsha Street, Dubai Marina , Dubai Get directions',\n",
       " 'Memberships',\n",
       " 'Vouchers']"
      ]
     },
     "execution_count": 29,
     "metadata": {},
     "output_type": "execute_result"
    }
   ],
   "source": [
    "data_list"
   ]
  },
  {
   "cell_type": "code",
   "execution_count": 5,
   "metadata": {},
   "outputs": [],
   "source": [
    "df[\"time_opens\"] = df[\"time_opens\"].apply(ast.literal_eval)"
   ]
  },
  {
   "cell_type": "code",
   "execution_count": 38,
   "metadata": {},
   "outputs": [
    {
     "data": {
      "text/plain": [
       "0       ['9:00am - 10:00pm', '9:00am - 10:00pm', '9:00...\n",
       "1       ['11:00am - 9:00pm', '11:00am - 9:00pm', '11:0...\n",
       "2       ['9:00am - 8:00pm', '9:00am - 8:00pm', '9:00am...\n",
       "3       ['9:00am - 9:00pm', '9:00am - 9:00pm', '9:00am...\n",
       "4       ['10:00am - 8:00pm', '10:00am - 8:00pm', '10:0...\n",
       "                              ...                        \n",
       "1030    ['10:00am - 10:00pm', '10:00am - 10:00pm', '10...\n",
       "1031    ['10:00am - 10:00pm', '10:00am - 10:00pm', '10...\n",
       "1032    ['11:00am - 9:00pm', '11:00am - 9:00pm', '11:0...\n",
       "1033    ['9:00am - 10:00pm', '9:00am - 10:00pm', '9:00...\n",
       "1034    ['9:00am - 10:00pm', '9:00am - 10:00pm', '9:00...\n",
       "Name: time_opens, Length: 1035, dtype: object"
      ]
     },
     "execution_count": 38,
     "metadata": {},
     "output_type": "execute_result"
    }
   ],
   "source": [
    "df[\"time_opens\"]"
   ]
  },
  {
   "cell_type": "code",
   "execution_count": 78,
   "metadata": {},
   "outputs": [],
   "source": [
    "data = df[\"day_opens\"][100]"
   ]
  },
  {
   "cell_type": "code",
   "execution_count": 87,
   "metadata": {},
   "outputs": [
    {
     "name": "stdout",
     "output_type": "stream",
     "text": [
      "Vouchers Monday Tuesday Thursday Friday Saturday Sunday Instant Confirmation Pay by app Cluster J, Tower J2, Shop 18, FREE parking is available , Dubai Get directions Cluster J, Tower J2, Shop 18, FREE parking is available , Dubai Get directions Vouchers\n"
     ]
    }
   ],
   "source": [
    "print(*data)"
   ]
  },
  {
   "cell_type": "code",
   "execution_count": 94,
   "metadata": {},
   "outputs": [],
   "source": [
    "# Words to remove\n",
    "words_to_remove = ['Instant Confirmation', 'Pay by app', 'Vouchers', 'Memberships']\n",
    "\n",
    "def remove_words(row):\n",
    "    return [word for word in row if word not in words_to_remove]\n",
    "\n",
    "# Apply the function to the 'day_opens' column\n",
    "df['day_opens'] = df['day_opens'].apply(remove_words)"
   ]
  },
  {
   "cell_type": "code",
   "execution_count": 36,
   "metadata": {},
   "outputs": [
    {
     "data": {
      "text/plain": [
       "['Monday',\n",
       " 'Tuesday',\n",
       " 'Thursday',\n",
       " 'Friday',\n",
       " 'Saturday',\n",
       " 'Sunday',\n",
       " 'Saba 2 Tower , Cluster Q, JLT, Dubai Get directions',\n",
       " 'Saba 2 Tower , Cluster Q, JLT, Dubai Get directions']"
      ]
     },
     "execution_count": 36,
     "metadata": {},
     "output_type": "execute_result"
    }
   ],
   "source": [
    "df['day_opens'][200]"
   ]
  },
  {
   "cell_type": "code",
   "execution_count": 107,
   "metadata": {},
   "outputs": [],
   "source": [
    "df.to_excel(r\"C:\\Users\\shade alarbed\\Downloads\\salon data\\salon_info_dubai_edited.xlsx\")"
   ]
  },
  {
   "cell_type": "code",
   "execution_count": 7,
   "metadata": {},
   "outputs": [],
   "source": [
    "df = pd.read_excel(r\"C:\\Users\\shade alarbed\\Downloads\\salon data\\salon_info_dubai_edited.xlsx\")"
   ]
  },
  {
   "cell_type": "code",
   "execution_count": 14,
   "metadata": {},
   "outputs": [],
   "source": [
    "df[\"day_opens\"] = df[\"day_opens\"].apply(ast.literal_eval)"
   ]
  },
  {
   "cell_type": "code",
   "execution_count": 18,
   "metadata": {},
   "outputs": [
    {
     "data": {
      "text/plain": [
       "['BQ2 Residence, Jumeirah Village Triangle, Dubai Get directions',\n",
       " 'BQ2 Residence, Jumeirah Village Triangle, Dubai Get directions']"
      ]
     },
     "execution_count": 18,
     "metadata": {},
     "output_type": "execute_result"
    }
   ],
   "source": [
    "df[\"day_opens\"][15][-2:]"
   ]
  },
  {
   "cell_type": "code",
   "execution_count": 24,
   "metadata": {},
   "outputs": [],
   "source": [
    "location = []\n",
    "for i in range(len(df[\"day_opens\"])):\n",
    "    location.append(df[\"day_opens\"][i][-2:])"
   ]
  },
  {
   "cell_type": "code",
   "execution_count": 32,
   "metadata": {},
   "outputs": [],
   "source": [
    "days_open = []\n",
    "for i in range(len(df[\"day_opens\"])):\n",
    "    days_open.append(df[\"day_opens\"][i][:-2])\n"
   ]
  },
  {
   "cell_type": "code",
   "execution_count": 50,
   "metadata": {},
   "outputs": [],
   "source": [
    "df[\"salon_name\"] = df[\"salon_name\"].apply(ast.literal_eval)"
   ]
  },
  {
   "cell_type": "code",
   "execution_count": 52,
   "metadata": {},
   "outputs": [
    {
     "data": {
      "text/plain": [
       "['Chaps &amp; Co - Dubai Marina']"
      ]
     },
     "execution_count": 52,
     "metadata": {},
     "output_type": "execute_result"
    }
   ],
   "source": [
    "df[\"salon_name\"]"
   ]
  },
  {
   "cell_type": "code",
   "execution_count": 63,
   "metadata": {},
   "outputs": [],
   "source": [
    "cleaned_series = df[\"salon_name\"].apply(lambda x: str(x).strip(\"[]\").replace(\"'\", \"\"))\n"
   ]
  },
  {
   "cell_type": "code",
   "execution_count": 64,
   "metadata": {},
   "outputs": [],
   "source": [
    "about = df[\"about\"].apply(lambda x: str(x).strip(\"[]\").replace(\"'\", \"\"))"
   ]
  },
  {
   "cell_type": "code",
   "execution_count": 70,
   "metadata": {},
   "outputs": [
    {
     "data": {
      "text/plain": [
       "['31 A Street, Villa 13, Al Jaffiliya, Dubai Get directions',\n",
       " '31 A Street, Villa 13, Al Jaffiliya, Dubai Get directions']"
      ]
     },
     "execution_count": 70,
     "metadata": {},
     "output_type": "execute_result"
    }
   ],
   "source": [
    "location[999]"
   ]
  },
  {
   "cell_type": "code",
   "execution_count": 66,
   "metadata": {},
   "outputs": [],
   "source": [
    "n_df = {\n",
    "    \"location\": location,\n",
    "    \"days_open\": days_open,\n",
    "    \"times_open\":df[\"time_opens\"],\n",
    "    \"salon_name\":cleaned_series,\n",
    "    \"description\":about\n",
    "}"
   ]
  },
  {
   "cell_type": "code",
   "execution_count": 68,
   "metadata": {},
   "outputs": [],
   "source": [
    "new_df = pd.DataFrame(n_df)"
   ]
  },
  {
   "cell_type": "code",
   "execution_count": 104,
   "metadata": {},
   "outputs": [
    {
     "data": {
      "text/html": [
       "<div>\n",
       "<style scoped>\n",
       "    .dataframe tbody tr th:only-of-type {\n",
       "        vertical-align: middle;\n",
       "    }\n",
       "\n",
       "    .dataframe tbody tr th {\n",
       "        vertical-align: top;\n",
       "    }\n",
       "\n",
       "    .dataframe thead th {\n",
       "        text-align: right;\n",
       "    }\n",
       "</style>\n",
       "<table border=\"1\" class=\"dataframe\">\n",
       "  <thead>\n",
       "    <tr style=\"text-align: right;\">\n",
       "      <th></th>\n",
       "      <th>location</th>\n",
       "      <th>days_open</th>\n",
       "      <th>times_open</th>\n",
       "      <th>salon_name</th>\n",
       "      <th>description</th>\n",
       "    </tr>\n",
       "  </thead>\n",
       "  <tbody>\n",
       "    <tr>\n",
       "      <th>0</th>\n",
       "      <td>Ground Floor, Trident Grand Residence, Al Mams...</td>\n",
       "      <td>[Monday, Tuesday, Thursday, Friday, Saturday, ...</td>\n",
       "      <td>['9:00am - 10:00pm', '9:00am - 10:00pm', '9:00...</td>\n",
       "      <td>Chaps &amp;amp; Co - Dubai Marina</td>\n",
       "      <td>Chaps &amp;amp; Co a is a traditional style barber...</td>\n",
       "    </tr>\n",
       "    <tr>\n",
       "      <th>1</th>\n",
       "      <td>Eyelash Secret Ladies Salon, Damac The Voleo, ...</td>\n",
       "      <td>[Monday, Tuesday, Thursday, Friday, Saturday, ...</td>\n",
       "      <td>['11:00am - 9:00pm', '11:00am - 9:00pm', '11:0...</td>\n",
       "      <td>Eyelash Secret Ladies Salon - Business Bay</td>\n",
       "      <td>Eyelash Secret Ladies Salon, we specialise in ...</td>\n",
       "    </tr>\n",
       "    <tr>\n",
       "      <th>2</th>\n",
       "      <td>Round About, Burj Al Salam, 6th Street, Trade ...</td>\n",
       "      <td>[Monday, Tuesday, Thursday, Friday, Saturday, ...</td>\n",
       "      <td>['9:00am - 8:00pm', '9:00am - 8:00pm', '9:00am...</td>\n",
       "      <td>Akin Barber &amp;amp; Shop Burj Al Salam</td>\n",
       "      <td>We are paying close attention to developments ...</td>\n",
       "    </tr>\n",
       "    <tr>\n",
       "      <th>3</th>\n",
       "      <td>The Bay Gate, Al Mustaqbal Street, Ground Floo...</td>\n",
       "      <td>[Monday, Tuesday, Thursday, Friday, Saturday, ...</td>\n",
       "      <td>['9:00am - 9:00pm', '9:00am - 9:00pm', '9:00am...</td>\n",
       "      <td>Bo Barbershop</td>\n",
       "      <td>\"Bô Barbershop celebrates mens love for nature...</td>\n",
       "    </tr>\n",
       "    <tr>\n",
       "      <th>4</th>\n",
       "      <td>Arjaan by Rotana Hotel , Dubai Media City, Dub...</td>\n",
       "      <td>[Monday, Tuesday, Thursday, Friday, Saturday, ...</td>\n",
       "      <td>['10:00am - 8:00pm', '10:00am - 8:00pm', '10:0...</td>\n",
       "      <td>CG Barbershop</td>\n",
       "      <td>\"CG is an old school Barbershop for todays Gen...</td>\n",
       "    </tr>\n",
       "    <tr>\n",
       "      <th>...</th>\n",
       "      <td>...</td>\n",
       "      <td>...</td>\n",
       "      <td>...</td>\n",
       "      <td>...</td>\n",
       "      <td>...</td>\n",
       "    </tr>\n",
       "    <tr>\n",
       "      <th>1030</th>\n",
       "      <td>The Gate Tower, Mezzanine, First Floor, Sharja...</td>\n",
       "      <td>[Monday, Tuesday, Thursday, Friday, Saturday, ...</td>\n",
       "      <td>['10:00am - 10:00pm', '10:00am - 10:00pm', '10...</td>\n",
       "      <td>Beauty Gate Saloon</td>\n",
       "      <td>Beauty Gate Ladies Salon is an exclusive salon...</td>\n",
       "    </tr>\n",
       "    <tr>\n",
       "      <th>1031</th>\n",
       "      <td>Dubai, South Village EMAAR SOUTH, V47V+XF7, Sh...</td>\n",
       "      <td>[Monday, Tuesday, Thursday, Friday, Saturday, ...</td>\n",
       "      <td>['10:00am - 10:00pm', '10:00am - 10:00pm', '10...</td>\n",
       "      <td>South Beauty Centre</td>\n",
       "      <td>One of the striking features about the South B...</td>\n",
       "    </tr>\n",
       "    <tr>\n",
       "      <th>1032</th>\n",
       "      <td>Pullman Sharjah Hotel, Sharjah Get directions,...</td>\n",
       "      <td>[Monday, Tuesday, Thursday, Friday, Saturday, ...</td>\n",
       "      <td>['11:00am - 9:00pm', '11:00am - 9:00pm', '11:0...</td>\n",
       "      <td>Pace Eluce Ladies Salon - Sharjah</td>\n",
       "      <td>Pace e Luce was founded in 1999 named after it...</td>\n",
       "    </tr>\n",
       "    <tr>\n",
       "      <th>1033</th>\n",
       "      <td>Al Khan - Sharjah, Sharjah Get directions, Al ...</td>\n",
       "      <td>[Monday, Tuesday, Thursday, Friday, Saturday, ...</td>\n",
       "      <td>['9:00am - 10:00pm', '9:00am - 10:00pm', '9:00...</td>\n",
       "      <td>Jabel Qasion Saloon</td>\n",
       "      <td>\"Jabel Qasion is every mans go to barbershop i...</td>\n",
       "    </tr>\n",
       "    <tr>\n",
       "      <th>1034</th>\n",
       "      <td>Al Taawun Street, Sharjah Get directions, Al T...</td>\n",
       "      <td>[Monday, Tuesday, Thursday, Friday, Saturday, ...</td>\n",
       "      <td>['9:00am - 10:00pm', '9:00am - 10:00pm', '9:00...</td>\n",
       "      <td>Jabal Qasion</td>\n",
       "      <td>\"Jabel Qasion is every mans go to barbershop i...</td>\n",
       "    </tr>\n",
       "  </tbody>\n",
       "</table>\n",
       "<p>1035 rows × 5 columns</p>\n",
       "</div>"
      ],
      "text/plain": [
       "                                               location  \\\n",
       "0     Ground Floor, Trident Grand Residence, Al Mams...   \n",
       "1     Eyelash Secret Ladies Salon, Damac The Voleo, ...   \n",
       "2     Round About, Burj Al Salam, 6th Street, Trade ...   \n",
       "3     The Bay Gate, Al Mustaqbal Street, Ground Floo...   \n",
       "4     Arjaan by Rotana Hotel , Dubai Media City, Dub...   \n",
       "...                                                 ...   \n",
       "1030  The Gate Tower, Mezzanine, First Floor, Sharja...   \n",
       "1031  Dubai, South Village EMAAR SOUTH, V47V+XF7, Sh...   \n",
       "1032  Pullman Sharjah Hotel, Sharjah Get directions,...   \n",
       "1033  Al Khan - Sharjah, Sharjah Get directions, Al ...   \n",
       "1034  Al Taawun Street, Sharjah Get directions, Al T...   \n",
       "\n",
       "                                              days_open  \\\n",
       "0     [Monday, Tuesday, Thursday, Friday, Saturday, ...   \n",
       "1     [Monday, Tuesday, Thursday, Friday, Saturday, ...   \n",
       "2     [Monday, Tuesday, Thursday, Friday, Saturday, ...   \n",
       "3     [Monday, Tuesday, Thursday, Friday, Saturday, ...   \n",
       "4     [Monday, Tuesday, Thursday, Friday, Saturday, ...   \n",
       "...                                                 ...   \n",
       "1030  [Monday, Tuesday, Thursday, Friday, Saturday, ...   \n",
       "1031  [Monday, Tuesday, Thursday, Friday, Saturday, ...   \n",
       "1032  [Monday, Tuesday, Thursday, Friday, Saturday, ...   \n",
       "1033  [Monday, Tuesday, Thursday, Friday, Saturday, ...   \n",
       "1034  [Monday, Tuesday, Thursday, Friday, Saturday, ...   \n",
       "\n",
       "                                             times_open  \\\n",
       "0     ['9:00am - 10:00pm', '9:00am - 10:00pm', '9:00...   \n",
       "1     ['11:00am - 9:00pm', '11:00am - 9:00pm', '11:0...   \n",
       "2     ['9:00am - 8:00pm', '9:00am - 8:00pm', '9:00am...   \n",
       "3     ['9:00am - 9:00pm', '9:00am - 9:00pm', '9:00am...   \n",
       "4     ['10:00am - 8:00pm', '10:00am - 8:00pm', '10:0...   \n",
       "...                                                 ...   \n",
       "1030  ['10:00am - 10:00pm', '10:00am - 10:00pm', '10...   \n",
       "1031  ['10:00am - 10:00pm', '10:00am - 10:00pm', '10...   \n",
       "1032  ['11:00am - 9:00pm', '11:00am - 9:00pm', '11:0...   \n",
       "1033  ['9:00am - 10:00pm', '9:00am - 10:00pm', '9:00...   \n",
       "1034  ['9:00am - 10:00pm', '9:00am - 10:00pm', '9:00...   \n",
       "\n",
       "                                      salon_name  \\\n",
       "0                  Chaps &amp; Co - Dubai Marina   \n",
       "1     Eyelash Secret Ladies Salon - Business Bay   \n",
       "2           Akin Barber &amp; Shop Burj Al Salam   \n",
       "3                                  Bo Barbershop   \n",
       "4                                  CG Barbershop   \n",
       "...                                          ...   \n",
       "1030                          Beauty Gate Saloon   \n",
       "1031                         South Beauty Centre   \n",
       "1032           Pace Eluce Ladies Salon - Sharjah   \n",
       "1033                         Jabel Qasion Saloon   \n",
       "1034                                Jabal Qasion   \n",
       "\n",
       "                                            description  \n",
       "0     Chaps &amp; Co a is a traditional style barber...  \n",
       "1     Eyelash Secret Ladies Salon, we specialise in ...  \n",
       "2     We are paying close attention to developments ...  \n",
       "3     \"Bô Barbershop celebrates mens love for nature...  \n",
       "4     \"CG is an old school Barbershop for todays Gen...  \n",
       "...                                                 ...  \n",
       "1030  Beauty Gate Ladies Salon is an exclusive salon...  \n",
       "1031  One of the striking features about the South B...  \n",
       "1032  Pace e Luce was founded in 1999 named after it...  \n",
       "1033  \"Jabel Qasion is every mans go to barbershop i...  \n",
       "1034  \"Jabel Qasion is every mans go to barbershop i...  \n",
       "\n",
       "[1035 rows x 5 columns]"
      ]
     },
     "execution_count": 104,
     "metadata": {},
     "output_type": "execute_result"
    }
   ],
   "source": [
    "new_df"
   ]
  },
  {
   "cell_type": "code",
   "execution_count": 103,
   "metadata": {},
   "outputs": [],
   "source": [
    "new_df[\"location\"] = new_df[\"location\"].apply(lambda x: str(x).strip(\"[]\").replace(\"'\", \"\"))"
   ]
  },
  {
   "cell_type": "code",
   "execution_count": 106,
   "metadata": {},
   "outputs": [],
   "source": [
    "new_df[\"times_open\"] = new_df[\"times_open\"].apply(lambda x: str(x).strip(\"[]\").replace(\"'\", \"\"))"
   ]
  },
  {
   "cell_type": "code",
   "execution_count": 107,
   "metadata": {},
   "outputs": [
    {
     "data": {
      "text/html": [
       "<div>\n",
       "<style scoped>\n",
       "    .dataframe tbody tr th:only-of-type {\n",
       "        vertical-align: middle;\n",
       "    }\n",
       "\n",
       "    .dataframe tbody tr th {\n",
       "        vertical-align: top;\n",
       "    }\n",
       "\n",
       "    .dataframe thead th {\n",
       "        text-align: right;\n",
       "    }\n",
       "</style>\n",
       "<table border=\"1\" class=\"dataframe\">\n",
       "  <thead>\n",
       "    <tr style=\"text-align: right;\">\n",
       "      <th></th>\n",
       "      <th>location</th>\n",
       "      <th>days_open</th>\n",
       "      <th>times_open</th>\n",
       "      <th>salon_name</th>\n",
       "      <th>description</th>\n",
       "    </tr>\n",
       "  </thead>\n",
       "  <tbody>\n",
       "    <tr>\n",
       "      <th>0</th>\n",
       "      <td>Ground Floor, Trident Grand Residence, Al Mams...</td>\n",
       "      <td>Monday, Tuesday, Thursday, Friday, Saturday, S...</td>\n",
       "      <td>9:00am - 10:00pm, 9:00am - 10:00pm, 9:00am - 1...</td>\n",
       "      <td>Chaps &amp;amp; Co - Dubai Marina</td>\n",
       "      <td>Chaps &amp;amp; Co a is a traditional style barber...</td>\n",
       "    </tr>\n",
       "    <tr>\n",
       "      <th>1</th>\n",
       "      <td>Eyelash Secret Ladies Salon, Damac The Voleo, ...</td>\n",
       "      <td>Monday, Tuesday, Thursday, Friday, Saturday, S...</td>\n",
       "      <td>11:00am - 9:00pm, 11:00am - 9:00pm, 11:00am - ...</td>\n",
       "      <td>Eyelash Secret Ladies Salon - Business Bay</td>\n",
       "      <td>Eyelash Secret Ladies Salon, we specialise in ...</td>\n",
       "    </tr>\n",
       "    <tr>\n",
       "      <th>2</th>\n",
       "      <td>Round About, Burj Al Salam, 6th Street, Trade ...</td>\n",
       "      <td>Monday, Tuesday, Thursday, Friday, Saturday, S...</td>\n",
       "      <td>9:00am - 8:00pm, 9:00am - 8:00pm, 9:00am - 8:0...</td>\n",
       "      <td>Akin Barber &amp;amp; Shop Burj Al Salam</td>\n",
       "      <td>We are paying close attention to developments ...</td>\n",
       "    </tr>\n",
       "    <tr>\n",
       "      <th>3</th>\n",
       "      <td>The Bay Gate, Al Mustaqbal Street, Ground Floo...</td>\n",
       "      <td>Monday, Tuesday, Thursday, Friday, Saturday, S...</td>\n",
       "      <td>9:00am - 9:00pm, 9:00am - 9:00pm, 9:00am - 9:0...</td>\n",
       "      <td>Bo Barbershop</td>\n",
       "      <td>\"Bô Barbershop celebrates mens love for nature...</td>\n",
       "    </tr>\n",
       "    <tr>\n",
       "      <th>4</th>\n",
       "      <td>Arjaan by Rotana Hotel , Dubai Media City, Dub...</td>\n",
       "      <td>Monday, Tuesday, Thursday, Friday, Saturday, S...</td>\n",
       "      <td>10:00am - 8:00pm, 10:00am - 8:00pm, 10:00am - ...</td>\n",
       "      <td>CG Barbershop</td>\n",
       "      <td>\"CG is an old school Barbershop for todays Gen...</td>\n",
       "    </tr>\n",
       "    <tr>\n",
       "      <th>...</th>\n",
       "      <td>...</td>\n",
       "      <td>...</td>\n",
       "      <td>...</td>\n",
       "      <td>...</td>\n",
       "      <td>...</td>\n",
       "    </tr>\n",
       "    <tr>\n",
       "      <th>1030</th>\n",
       "      <td>The Gate Tower, Mezzanine, First Floor, Sharja...</td>\n",
       "      <td>Monday, Tuesday, Thursday, Friday, Saturday, S...</td>\n",
       "      <td>10:00am - 10:00pm, 10:00am - 10:00pm, 10:00am ...</td>\n",
       "      <td>Beauty Gate Saloon</td>\n",
       "      <td>Beauty Gate Ladies Salon is an exclusive salon...</td>\n",
       "    </tr>\n",
       "    <tr>\n",
       "      <th>1031</th>\n",
       "      <td>Dubai, South Village EMAAR SOUTH, V47V+XF7, Sh...</td>\n",
       "      <td>Monday, Tuesday, Thursday, Friday, Saturday, S...</td>\n",
       "      <td>10:00am - 10:00pm, 10:00am - 10:00pm, 10:00am ...</td>\n",
       "      <td>South Beauty Centre</td>\n",
       "      <td>One of the striking features about the South B...</td>\n",
       "    </tr>\n",
       "    <tr>\n",
       "      <th>1032</th>\n",
       "      <td>Pullman Sharjah Hotel, Sharjah Get directions,...</td>\n",
       "      <td>Monday, Tuesday, Thursday, Friday, Saturday, S...</td>\n",
       "      <td>11:00am - 9:00pm, 11:00am - 9:00pm, 11:00am - ...</td>\n",
       "      <td>Pace Eluce Ladies Salon - Sharjah</td>\n",
       "      <td>Pace e Luce was founded in 1999 named after it...</td>\n",
       "    </tr>\n",
       "    <tr>\n",
       "      <th>1033</th>\n",
       "      <td>Al Khan - Sharjah, Sharjah Get directions, Al ...</td>\n",
       "      <td>Monday, Tuesday, Thursday, Friday, Saturday, S...</td>\n",
       "      <td>9:00am - 10:00pm, 9:00am - 10:00pm, 9:00am - 1...</td>\n",
       "      <td>Jabel Qasion Saloon</td>\n",
       "      <td>\"Jabel Qasion is every mans go to barbershop i...</td>\n",
       "    </tr>\n",
       "    <tr>\n",
       "      <th>1034</th>\n",
       "      <td>Al Taawun Street, Sharjah Get directions, Al T...</td>\n",
       "      <td>Monday, Tuesday, Thursday, Friday, Saturday, S...</td>\n",
       "      <td>9:00am - 10:00pm, 9:00am - 10:00pm, 9:00am - 1...</td>\n",
       "      <td>Jabal Qasion</td>\n",
       "      <td>\"Jabel Qasion is every mans go to barbershop i...</td>\n",
       "    </tr>\n",
       "  </tbody>\n",
       "</table>\n",
       "<p>1035 rows × 5 columns</p>\n",
       "</div>"
      ],
      "text/plain": [
       "                                               location  \\\n",
       "0     Ground Floor, Trident Grand Residence, Al Mams...   \n",
       "1     Eyelash Secret Ladies Salon, Damac The Voleo, ...   \n",
       "2     Round About, Burj Al Salam, 6th Street, Trade ...   \n",
       "3     The Bay Gate, Al Mustaqbal Street, Ground Floo...   \n",
       "4     Arjaan by Rotana Hotel , Dubai Media City, Dub...   \n",
       "...                                                 ...   \n",
       "1030  The Gate Tower, Mezzanine, First Floor, Sharja...   \n",
       "1031  Dubai, South Village EMAAR SOUTH, V47V+XF7, Sh...   \n",
       "1032  Pullman Sharjah Hotel, Sharjah Get directions,...   \n",
       "1033  Al Khan - Sharjah, Sharjah Get directions, Al ...   \n",
       "1034  Al Taawun Street, Sharjah Get directions, Al T...   \n",
       "\n",
       "                                              days_open  \\\n",
       "0     Monday, Tuesday, Thursday, Friday, Saturday, S...   \n",
       "1     Monday, Tuesday, Thursday, Friday, Saturday, S...   \n",
       "2     Monday, Tuesday, Thursday, Friday, Saturday, S...   \n",
       "3     Monday, Tuesday, Thursday, Friday, Saturday, S...   \n",
       "4     Monday, Tuesday, Thursday, Friday, Saturday, S...   \n",
       "...                                                 ...   \n",
       "1030  Monday, Tuesday, Thursday, Friday, Saturday, S...   \n",
       "1031  Monday, Tuesday, Thursday, Friday, Saturday, S...   \n",
       "1032  Monday, Tuesday, Thursday, Friday, Saturday, S...   \n",
       "1033  Monday, Tuesday, Thursday, Friday, Saturday, S...   \n",
       "1034  Monday, Tuesday, Thursday, Friday, Saturday, S...   \n",
       "\n",
       "                                             times_open  \\\n",
       "0     9:00am - 10:00pm, 9:00am - 10:00pm, 9:00am - 1...   \n",
       "1     11:00am - 9:00pm, 11:00am - 9:00pm, 11:00am - ...   \n",
       "2     9:00am - 8:00pm, 9:00am - 8:00pm, 9:00am - 8:0...   \n",
       "3     9:00am - 9:00pm, 9:00am - 9:00pm, 9:00am - 9:0...   \n",
       "4     10:00am - 8:00pm, 10:00am - 8:00pm, 10:00am - ...   \n",
       "...                                                 ...   \n",
       "1030  10:00am - 10:00pm, 10:00am - 10:00pm, 10:00am ...   \n",
       "1031  10:00am - 10:00pm, 10:00am - 10:00pm, 10:00am ...   \n",
       "1032  11:00am - 9:00pm, 11:00am - 9:00pm, 11:00am - ...   \n",
       "1033  9:00am - 10:00pm, 9:00am - 10:00pm, 9:00am - 1...   \n",
       "1034  9:00am - 10:00pm, 9:00am - 10:00pm, 9:00am - 1...   \n",
       "\n",
       "                                      salon_name  \\\n",
       "0                  Chaps &amp; Co - Dubai Marina   \n",
       "1     Eyelash Secret Ladies Salon - Business Bay   \n",
       "2           Akin Barber &amp; Shop Burj Al Salam   \n",
       "3                                  Bo Barbershop   \n",
       "4                                  CG Barbershop   \n",
       "...                                          ...   \n",
       "1030                          Beauty Gate Saloon   \n",
       "1031                         South Beauty Centre   \n",
       "1032           Pace Eluce Ladies Salon - Sharjah   \n",
       "1033                         Jabel Qasion Saloon   \n",
       "1034                                Jabal Qasion   \n",
       "\n",
       "                                            description  \n",
       "0     Chaps &amp; Co a is a traditional style barber...  \n",
       "1     Eyelash Secret Ladies Salon, we specialise in ...  \n",
       "2     We are paying close attention to developments ...  \n",
       "3     \"Bô Barbershop celebrates mens love for nature...  \n",
       "4     \"CG is an old school Barbershop for todays Gen...  \n",
       "...                                                 ...  \n",
       "1030  Beauty Gate Ladies Salon is an exclusive salon...  \n",
       "1031  One of the striking features about the South B...  \n",
       "1032  Pace e Luce was founded in 1999 named after it...  \n",
       "1033  \"Jabel Qasion is every mans go to barbershop i...  \n",
       "1034  \"Jabel Qasion is every mans go to barbershop i...  \n",
       "\n",
       "[1035 rows x 5 columns]"
      ]
     },
     "execution_count": 107,
     "metadata": {},
     "output_type": "execute_result"
    }
   ],
   "source": [
    "new_df"
   ]
  },
  {
   "cell_type": "code",
   "execution_count": 71,
   "metadata": {},
   "outputs": [],
   "source": [
    "new_df.to_excel(r\"C:\\Users\\shade alarbed\\Downloads\\salon data\\salon_info_dubai_edited1.xlsx\")"
   ]
  },
  {
   "cell_type": "code",
   "execution_count": 72,
   "metadata": {},
   "outputs": [],
   "source": [
    "df = pd.read_csv(r\"C:\\Users\\shade alarbed\\Downloads\\salon data\\price_salon_info_dubai.csv\")"
   ]
  },
  {
   "cell_type": "code",
   "execution_count": 87,
   "metadata": {},
   "outputs": [
    {
     "data": {
      "text/html": [
       "<div>\n",
       "<style scoped>\n",
       "    .dataframe tbody tr th:only-of-type {\n",
       "        vertical-align: middle;\n",
       "    }\n",
       "\n",
       "    .dataframe tbody tr th {\n",
       "        vertical-align: top;\n",
       "    }\n",
       "\n",
       "    .dataframe thead th {\n",
       "        text-align: right;\n",
       "    }\n",
       "</style>\n",
       "<table border=\"1\" class=\"dataframe\">\n",
       "  <thead>\n",
       "    <tr style=\"text-align: right;\">\n",
       "      <th></th>\n",
       "      <th>Unnamed: 0</th>\n",
       "      <th>url</th>\n",
       "      <th>service_name</th>\n",
       "      <th>tim_of_service</th>\n",
       "      <th>description</th>\n",
       "      <th>price</th>\n",
       "      <th>salon_name</th>\n",
       "      <th>location</th>\n",
       "    </tr>\n",
       "  </thead>\n",
       "  <tbody>\n",
       "    <tr>\n",
       "      <th>0</th>\n",
       "      <td>0</td>\n",
       "      <td>https://www.fresha.com/a/chaps-co-dubai-marina...</td>\n",
       "      <td>\"Fathers Day - Dad &amp;amp; Lad Haircut\", Classic...</td>\n",
       "      <td>['1h 15min', '1h 15min', '1h 15min', '1h 15min...</td>\n",
       "      <td>[\"For Father's Day, Sunday 18 June, until Tues...</td>\n",
       "      <td>['from AED 135', 'AED 135', 'AED 160', 'AED 29...</td>\n",
       "      <td>['Chaps &amp;amp; Co - Dubai Marina']</td>\n",
       "      <td>['Ground Floor, Trident Grand Residence, Al Ma...</td>\n",
       "    </tr>\n",
       "    <tr>\n",
       "      <th>1</th>\n",
       "      <td>1</td>\n",
       "      <td>https://www.fresha.com/a/eyelash-secret-ladies...</td>\n",
       "      <td>\\U0001fae6Lip blush semi permanent \\U0001fae6,...</td>\n",
       "      <td>['1h 40min', '2h', '1h', '1h 20min', '1h 30min...</td>\n",
       "      <td>['Special offer price: from 1,000 AED to 299 A...</td>\n",
       "      <td>['AED 299', 'AED 499', 'AED 150', 'AED 200', '...</td>\n",
       "      <td>['Eyelash Secret Ladies Salon - Business Bay']</td>\n",
       "      <td>['Eyelash Secret Ladies Salon, Damac The Voleo...</td>\n",
       "    </tr>\n",
       "    <tr>\n",
       "      <th>2</th>\n",
       "      <td>2</td>\n",
       "      <td>https://www.fresha.com/a/akin-barber-shop-burj...</td>\n",
       "      <td>Hair Cut &amp;amp; Beard Tune-Up, Hair Cut - With ...</td>\n",
       "      <td>['1h', '1h', '45min', '1h • 2 services', '45mi...</td>\n",
       "      <td>['Choose between, Energizing Hairloss, Detoxif...</td>\n",
       "      <td>['AED 235', 'AED 241.20', 'AED 180', 'AED 155'...</td>\n",
       "      <td>['Akin Barber &amp;amp; Shop Burj Al Salam']</td>\n",
       "      <td>['Round About, Burj Al Salam, 6th Street, Trad...</td>\n",
       "    </tr>\n",
       "    <tr>\n",
       "      <th>3</th>\n",
       "      <td>3</td>\n",
       "      <td>https://www.fresha.com/a/bo-barbershop-dubai-t...</td>\n",
       "      <td>Haircut, Haircut &amp;amp; Beard Tune-up, Hair Tri...</td>\n",
       "      <td>['45min', '1h', '30min • Hair Trim', '45min', ...</td>\n",
       "      <td>['Consultation, full hair cut and styling by o...</td>\n",
       "      <td>['AED 180', 'AED 235', 'AED 105', 'AED 195', '...</td>\n",
       "      <td>['Bo Barbershop']</td>\n",
       "      <td>['The Bay Gate, Al Mustaqbal Street, Ground Fl...</td>\n",
       "    </tr>\n",
       "    <tr>\n",
       "      <th>4</th>\n",
       "      <td>4</td>\n",
       "      <td>https://www.fresha.com/a/cg-barbershop-dubai-a...</td>\n",
       "      <td>Haircut, Hair Cut &amp;amp; Beard Trim, Skin Fade,...</td>\n",
       "      <td>['40min • Male only', '1h • Male only', '50min...</td>\n",
       "      <td>['Consultation- Cut | Shampoo | Condition | St...</td>\n",
       "      <td>['AED 170', 'AED 250', 'AED 190', 'AED 100', '...</td>\n",
       "      <td>['CG Barbershop']</td>\n",
       "      <td>['Arjaan by Rotana Hotel , Dubai (Dubai Media ...</td>\n",
       "    </tr>\n",
       "    <tr>\n",
       "      <th>...</th>\n",
       "      <td>...</td>\n",
       "      <td>...</td>\n",
       "      <td>...</td>\n",
       "      <td>...</td>\n",
       "      <td>...</td>\n",
       "      <td>...</td>\n",
       "      <td>...</td>\n",
       "      <td>...</td>\n",
       "    </tr>\n",
       "    <tr>\n",
       "      <th>1030</th>\n",
       "      <td>1030</td>\n",
       "      <td>https://www.fresha.com/a/beauty-gate-saloon-sh...</td>\n",
       "      <td>Pedicure Basic, Eyebrow Treading, Manicure Bas...</td>\n",
       "      <td>['1h', '20min', '1h', '20min', '3h • 3 service...</td>\n",
       "      <td>[]</td>\n",
       "      <td>['AED 60', 'AED 25', 'AED 40', 'AED 10', 'AED ...</td>\n",
       "      <td>['Beauty Gate Saloon']</td>\n",
       "      <td>['The Gate Tower, Mezzanine, First Floor, Shar...</td>\n",
       "    </tr>\n",
       "    <tr>\n",
       "      <th>1031</th>\n",
       "      <td>1031</td>\n",
       "      <td>https://www.fresha.com/a/south-beauty-centre-d...</td>\n",
       "      <td>Straight Blowdry, Short Hair, Medium Hair, Lon...</td>\n",
       "      <td>['40min - 1h 15min', '40min', '50min', '1h', '...</td>\n",
       "      <td>['Including shampoo and conditioner.', 'An ess...</td>\n",
       "      <td>['from AED 85', 'AED 85', 'AED 105', 'AED 125'...</td>\n",
       "      <td>['South Beauty Centre']</td>\n",
       "      <td>['Dubai, South Village EMAAR SOUTH, V47V+XF7, ...</td>\n",
       "    </tr>\n",
       "    <tr>\n",
       "      <th>1032</th>\n",
       "      <td>1032</td>\n",
       "      <td>https://www.fresha.com/a/pace-eluce-ladies-sal...</td>\n",
       "      <td>Gelish Hand, Pedicure, without Nail Polish, wi...</td>\n",
       "      <td>['30min', '30min - 1h', '30min', '1h', '45min ...</td>\n",
       "      <td>['Gelish is a pure, thin UV gel that is pigmen...</td>\n",
       "      <td>['AED 170', 'from AED 80', 'AED 80', 'AED 100'...</td>\n",
       "      <td>['Pace Eluce Ladies Salon - Sharjah']</td>\n",
       "      <td>['Pullman Sharjah Hotel, Sharjah']</td>\n",
       "    </tr>\n",
       "    <tr>\n",
       "      <th>1033</th>\n",
       "      <td>1033</td>\n",
       "      <td>https://www.fresha.com/a/jabel-qasion-saloon-s...</td>\n",
       "      <td>\"Adults Haircut and Beard\", Adults Haircut, Tr...</td>\n",
       "      <td>['15min', '15min', '15min', '15min', '15min', ...</td>\n",
       "      <td>[]</td>\n",
       "      <td>['AED 70', 'AED 40', 'AED 30', 'AED 25', 'AED ...</td>\n",
       "      <td>['Jabel Qasion Saloon']</td>\n",
       "      <td>['Al Khan - Sharjah, Sharjah']</td>\n",
       "    </tr>\n",
       "    <tr>\n",
       "      <th>1034</th>\n",
       "      <td>1034</td>\n",
       "      <td>https://www.fresha.com/a/jabal-qasion-sharjah-...</td>\n",
       "      <td>Hair Cut &amp;amp; Beard, Hair Cut Adult, Trim, St...</td>\n",
       "      <td>['35min', '35min', '35min', '35min', '35min', ...</td>\n",
       "      <td>[]</td>\n",
       "      <td>['AED 70', 'AED 40', 'AED 30', 'AED 25', 'AED ...</td>\n",
       "      <td>['Jabal Qasion']</td>\n",
       "      <td>['Al Taawun Street, Sharjah']</td>\n",
       "    </tr>\n",
       "  </tbody>\n",
       "</table>\n",
       "<p>1035 rows × 8 columns</p>\n",
       "</div>"
      ],
      "text/plain": [
       "      Unnamed: 0                                                url  \\\n",
       "0              0  https://www.fresha.com/a/chaps-co-dubai-marina...   \n",
       "1              1  https://www.fresha.com/a/eyelash-secret-ladies...   \n",
       "2              2  https://www.fresha.com/a/akin-barber-shop-burj...   \n",
       "3              3  https://www.fresha.com/a/bo-barbershop-dubai-t...   \n",
       "4              4  https://www.fresha.com/a/cg-barbershop-dubai-a...   \n",
       "...          ...                                                ...   \n",
       "1030        1030  https://www.fresha.com/a/beauty-gate-saloon-sh...   \n",
       "1031        1031  https://www.fresha.com/a/south-beauty-centre-d...   \n",
       "1032        1032  https://www.fresha.com/a/pace-eluce-ladies-sal...   \n",
       "1033        1033  https://www.fresha.com/a/jabel-qasion-saloon-s...   \n",
       "1034        1034  https://www.fresha.com/a/jabal-qasion-sharjah-...   \n",
       "\n",
       "                                           service_name  \\\n",
       "0     \"Fathers Day - Dad &amp; Lad Haircut\", Classic...   \n",
       "1     \\U0001fae6Lip blush semi permanent \\U0001fae6,...   \n",
       "2     Hair Cut &amp; Beard Tune-Up, Hair Cut - With ...   \n",
       "3     Haircut, Haircut &amp; Beard Tune-up, Hair Tri...   \n",
       "4     Haircut, Hair Cut &amp; Beard Trim, Skin Fade,...   \n",
       "...                                                 ...   \n",
       "1030  Pedicure Basic, Eyebrow Treading, Manicure Bas...   \n",
       "1031  Straight Blowdry, Short Hair, Medium Hair, Lon...   \n",
       "1032  Gelish Hand, Pedicure, without Nail Polish, wi...   \n",
       "1033  \"Adults Haircut and Beard\", Adults Haircut, Tr...   \n",
       "1034  Hair Cut &amp; Beard, Hair Cut Adult, Trim, St...   \n",
       "\n",
       "                                         tim_of_service  \\\n",
       "0     ['1h 15min', '1h 15min', '1h 15min', '1h 15min...   \n",
       "1     ['1h 40min', '2h', '1h', '1h 20min', '1h 30min...   \n",
       "2     ['1h', '1h', '45min', '1h • 2 services', '45mi...   \n",
       "3     ['45min', '1h', '30min • Hair Trim', '45min', ...   \n",
       "4     ['40min • Male only', '1h • Male only', '50min...   \n",
       "...                                                 ...   \n",
       "1030  ['1h', '20min', '1h', '20min', '3h • 3 service...   \n",
       "1031  ['40min - 1h 15min', '40min', '50min', '1h', '...   \n",
       "1032  ['30min', '30min - 1h', '30min', '1h', '45min ...   \n",
       "1033  ['15min', '15min', '15min', '15min', '15min', ...   \n",
       "1034  ['35min', '35min', '35min', '35min', '35min', ...   \n",
       "\n",
       "                                            description  \\\n",
       "0     [\"For Father's Day, Sunday 18 June, until Tues...   \n",
       "1     ['Special offer price: from 1,000 AED to 299 A...   \n",
       "2     ['Choose between, Energizing Hairloss, Detoxif...   \n",
       "3     ['Consultation, full hair cut and styling by o...   \n",
       "4     ['Consultation- Cut | Shampoo | Condition | St...   \n",
       "...                                                 ...   \n",
       "1030                                                 []   \n",
       "1031  ['Including shampoo and conditioner.', 'An ess...   \n",
       "1032  ['Gelish is a pure, thin UV gel that is pigmen...   \n",
       "1033                                                 []   \n",
       "1034                                                 []   \n",
       "\n",
       "                                                  price  \\\n",
       "0     ['from AED 135', 'AED 135', 'AED 160', 'AED 29...   \n",
       "1     ['AED 299', 'AED 499', 'AED 150', 'AED 200', '...   \n",
       "2     ['AED 235', 'AED 241.20', 'AED 180', 'AED 155'...   \n",
       "3     ['AED 180', 'AED 235', 'AED 105', 'AED 195', '...   \n",
       "4     ['AED 170', 'AED 250', 'AED 190', 'AED 100', '...   \n",
       "...                                                 ...   \n",
       "1030  ['AED 60', 'AED 25', 'AED 40', 'AED 10', 'AED ...   \n",
       "1031  ['from AED 85', 'AED 85', 'AED 105', 'AED 125'...   \n",
       "1032  ['AED 170', 'from AED 80', 'AED 80', 'AED 100'...   \n",
       "1033  ['AED 70', 'AED 40', 'AED 30', 'AED 25', 'AED ...   \n",
       "1034  ['AED 70', 'AED 40', 'AED 30', 'AED 25', 'AED ...   \n",
       "\n",
       "                                          salon_name  \\\n",
       "0                  ['Chaps &amp; Co - Dubai Marina']   \n",
       "1     ['Eyelash Secret Ladies Salon - Business Bay']   \n",
       "2           ['Akin Barber &amp; Shop Burj Al Salam']   \n",
       "3                                  ['Bo Barbershop']   \n",
       "4                                  ['CG Barbershop']   \n",
       "...                                              ...   \n",
       "1030                          ['Beauty Gate Saloon']   \n",
       "1031                         ['South Beauty Centre']   \n",
       "1032           ['Pace Eluce Ladies Salon - Sharjah']   \n",
       "1033                         ['Jabel Qasion Saloon']   \n",
       "1034                                ['Jabal Qasion']   \n",
       "\n",
       "                                               location  \n",
       "0     ['Ground Floor, Trident Grand Residence, Al Ma...  \n",
       "1     ['Eyelash Secret Ladies Salon, Damac The Voleo...  \n",
       "2     ['Round About, Burj Al Salam, 6th Street, Trad...  \n",
       "3     ['The Bay Gate, Al Mustaqbal Street, Ground Fl...  \n",
       "4     ['Arjaan by Rotana Hotel , Dubai (Dubai Media ...  \n",
       "...                                                 ...  \n",
       "1030  ['The Gate Tower, Mezzanine, First Floor, Shar...  \n",
       "1031  ['Dubai, South Village EMAAR SOUTH, V47V+XF7, ...  \n",
       "1032                 ['Pullman Sharjah Hotel, Sharjah']  \n",
       "1033                     ['Al Khan - Sharjah, Sharjah']  \n",
       "1034                      ['Al Taawun Street, Sharjah']  \n",
       "\n",
       "[1035 rows x 8 columns]"
      ]
     },
     "execution_count": 87,
     "metadata": {},
     "output_type": "execute_result"
    }
   ],
   "source": [
    "df"
   ]
  },
  {
   "cell_type": "code",
   "execution_count": 79,
   "metadata": {},
   "outputs": [],
   "source": [
    "df[\"service_name\"] = df[\"service_name\"].apply(ast.literal_eval)"
   ]
  },
  {
   "cell_type": "code",
   "execution_count": 82,
   "metadata": {},
   "outputs": [],
   "source": [
    "df['service_name'] = df[\"service_name\"].apply(lambda x: str(x).strip(\"[]\").replace(\"'\", \"\"))"
   ]
  },
  {
   "cell_type": "code",
   "execution_count": 89,
   "metadata": {},
   "outputs": [],
   "source": [
    "df['tim_of_service'] = df[\"tim_of_service\"].apply(ast.literal_eval)"
   ]
  },
  {
   "cell_type": "code",
   "execution_count": 90,
   "metadata": {},
   "outputs": [],
   "source": [
    "df['tim_of_service'] = df[\"tim_of_service\"].apply(lambda x: str(x).strip(\"[]\").replace(\"'\", \"\"))"
   ]
  },
  {
   "cell_type": "code",
   "execution_count": 91,
   "metadata": {},
   "outputs": [],
   "source": [
    "df[\"description\"] = df[\"description\"].apply(ast.literal_eval)"
   ]
  },
  {
   "cell_type": "code",
   "execution_count": 94,
   "metadata": {},
   "outputs": [],
   "source": [
    "df[\"description\"] = df[\"description\"].apply(lambda x: str(x).strip(\"[]\").replace(\"'\", \"\"))"
   ]
  },
  {
   "cell_type": "code",
   "execution_count": 97,
   "metadata": {},
   "outputs": [],
   "source": [
    "df[\"price\"] = df[\"price\"].apply(ast.literal_eval)"
   ]
  },
  {
   "cell_type": "code",
   "execution_count": 98,
   "metadata": {},
   "outputs": [],
   "source": [
    "df[\"price\"] = df[\"price\"].apply(lambda x: str(x).strip(\"[]\").replace(\"'\", \"\"))"
   ]
  },
  {
   "cell_type": "code",
   "execution_count": 99,
   "metadata": {},
   "outputs": [],
   "source": [
    "salon_services = {\n",
    "    \"name_service\" : df['service_name'],\n",
    "    \"service_time\" : df['tim_of_service'],\n",
    "    \"service_description\" : df[\"description\"],\n",
    "    \"prices\": df[\"price\"],\n",
    "}"
   ]
  },
  {
   "cell_type": "code",
   "execution_count": 100,
   "metadata": {},
   "outputs": [],
   "source": [
    "sevice_df= pd.DataFrame(salon_services)"
   ]
  },
  {
   "cell_type": "code",
   "execution_count": 101,
   "metadata": {},
   "outputs": [
    {
     "data": {
      "text/html": [
       "<div>\n",
       "<style scoped>\n",
       "    .dataframe tbody tr th:only-of-type {\n",
       "        vertical-align: middle;\n",
       "    }\n",
       "\n",
       "    .dataframe tbody tr th {\n",
       "        vertical-align: top;\n",
       "    }\n",
       "\n",
       "    .dataframe thead th {\n",
       "        text-align: right;\n",
       "    }\n",
       "</style>\n",
       "<table border=\"1\" class=\"dataframe\">\n",
       "  <thead>\n",
       "    <tr style=\"text-align: right;\">\n",
       "      <th></th>\n",
       "      <th>name_service</th>\n",
       "      <th>service_time</th>\n",
       "      <th>service_description</th>\n",
       "      <th>prices</th>\n",
       "    </tr>\n",
       "  </thead>\n",
       "  <tbody>\n",
       "    <tr>\n",
       "      <th>0</th>\n",
       "      <td>\"Fathers Day - Dad &amp;amp; Lad Haircut\", Classic...</td>\n",
       "      <td>1h 15min, 1h 15min, 1h 15min, 1h 15min, 30min ...</td>\n",
       "      <td>\"For Fathers Day, Sunday 18 June, until Tuesda...</td>\n",
       "      <td>from AED 135, AED 135, AED 160, AED 295, from ...</td>\n",
       "    </tr>\n",
       "    <tr>\n",
       "      <th>1</th>\n",
       "      <td>\\U0001fae6Lip blush semi permanent \\U0001fae6,...</td>\n",
       "      <td>1h 40min, 2h, 1h, 1h 20min, 1h 30min, 30min, 3...</td>\n",
       "      <td>Special offer price: from 1,000 AED to 299 AED...</td>\n",
       "      <td>AED 299, AED 499, AED 150, AED 200, AED 225, A...</td>\n",
       "    </tr>\n",
       "    <tr>\n",
       "      <th>2</th>\n",
       "      <td>Hair Cut &amp;amp; Beard Tune-Up, Hair Cut - With ...</td>\n",
       "      <td>1h, 1h, 45min, 1h • 2 services, 45min • 2 serv...</td>\n",
       "      <td>Choose between, Energizing Hairloss, Detoxifyi...</td>\n",
       "      <td>AED 235, AED 241.20, AED 180, AED 155, AED 245...</td>\n",
       "    </tr>\n",
       "    <tr>\n",
       "      <th>3</th>\n",
       "      <td>Haircut, Haircut &amp;amp; Beard Tune-up, Hair Tri...</td>\n",
       "      <td>45min, 1h, 30min • Hair Trim, 45min, 45min, 30...</td>\n",
       "      <td>Consultation, full hair cut and styling by one...</td>\n",
       "      <td>AED 180, AED 235, AED 105, AED 195, AED 195, f...</td>\n",
       "    </tr>\n",
       "    <tr>\n",
       "      <th>4</th>\n",
       "      <td>Haircut, Hair Cut &amp;amp; Beard Trim, Skin Fade,...</td>\n",
       "      <td>40min • Male only, 1h • Male only, 50min • Mal...</td>\n",
       "      <td>Consultation- Cut | Shampoo | Condition | Styl...</td>\n",
       "      <td>AED 170, AED 250, AED 190, AED 100, AED 270, A...</td>\n",
       "    </tr>\n",
       "    <tr>\n",
       "      <th>...</th>\n",
       "      <td>...</td>\n",
       "      <td>...</td>\n",
       "      <td>...</td>\n",
       "      <td>...</td>\n",
       "    </tr>\n",
       "    <tr>\n",
       "      <th>1030</th>\n",
       "      <td>Pedicure Basic, Eyebrow Treading, Manicure Bas...</td>\n",
       "      <td>1h, 20min, 1h, 20min, 3h • 3 services, 1h, 1h,...</td>\n",
       "      <td></td>\n",
       "      <td>AED 60, AED 25, AED 40, AED 10, AED 175, AED 1...</td>\n",
       "    </tr>\n",
       "    <tr>\n",
       "      <th>1031</th>\n",
       "      <td>Straight Blowdry, Short Hair, Medium Hair, Lon...</td>\n",
       "      <td>40min - 1h 15min, 40min, 50min, 1h, 1h 15min, ...</td>\n",
       "      <td>Including shampoo and conditioner., An essenti...</td>\n",
       "      <td>from AED 85, AED 85, AED 105, AED 125, AED 145...</td>\n",
       "    </tr>\n",
       "    <tr>\n",
       "      <th>1032</th>\n",
       "      <td>Gelish Hand, Pedicure, without Nail Polish, wi...</td>\n",
       "      <td>30min, 30min - 1h, 30min, 1h, 45min - 1h, 45mi...</td>\n",
       "      <td>Gelish is a pure, thin UV gel that is pigmente...</td>\n",
       "      <td>AED 170, from AED 80, AED 80, AED 100, from AE...</td>\n",
       "    </tr>\n",
       "    <tr>\n",
       "      <th>1033</th>\n",
       "      <td>\"Adults Haircut and Beard\", Adults Haircut, Tr...</td>\n",
       "      <td>15min, 15min, 15min, 15min, 15min, 15min, 15mi...</td>\n",
       "      <td></td>\n",
       "      <td>AED 70, AED 40, AED 30, AED 25, AED 35, AED 50...</td>\n",
       "    </tr>\n",
       "    <tr>\n",
       "      <th>1034</th>\n",
       "      <td>Hair Cut &amp;amp; Beard, Hair Cut Adult, Trim, St...</td>\n",
       "      <td>35min, 35min, 35min, 35min, 35min, 35min, 35mi...</td>\n",
       "      <td></td>\n",
       "      <td>AED 70, AED 40, AED 30, AED 25, AED 50, AED 70...</td>\n",
       "    </tr>\n",
       "  </tbody>\n",
       "</table>\n",
       "<p>1035 rows × 4 columns</p>\n",
       "</div>"
      ],
      "text/plain": [
       "                                           name_service  \\\n",
       "0     \"Fathers Day - Dad &amp; Lad Haircut\", Classic...   \n",
       "1     \\U0001fae6Lip blush semi permanent \\U0001fae6,...   \n",
       "2     Hair Cut &amp; Beard Tune-Up, Hair Cut - With ...   \n",
       "3     Haircut, Haircut &amp; Beard Tune-up, Hair Tri...   \n",
       "4     Haircut, Hair Cut &amp; Beard Trim, Skin Fade,...   \n",
       "...                                                 ...   \n",
       "1030  Pedicure Basic, Eyebrow Treading, Manicure Bas...   \n",
       "1031  Straight Blowdry, Short Hair, Medium Hair, Lon...   \n",
       "1032  Gelish Hand, Pedicure, without Nail Polish, wi...   \n",
       "1033  \"Adults Haircut and Beard\", Adults Haircut, Tr...   \n",
       "1034  Hair Cut &amp; Beard, Hair Cut Adult, Trim, St...   \n",
       "\n",
       "                                           service_time  \\\n",
       "0     1h 15min, 1h 15min, 1h 15min, 1h 15min, 30min ...   \n",
       "1     1h 40min, 2h, 1h, 1h 20min, 1h 30min, 30min, 3...   \n",
       "2     1h, 1h, 45min, 1h • 2 services, 45min • 2 serv...   \n",
       "3     45min, 1h, 30min • Hair Trim, 45min, 45min, 30...   \n",
       "4     40min • Male only, 1h • Male only, 50min • Mal...   \n",
       "...                                                 ...   \n",
       "1030  1h, 20min, 1h, 20min, 3h • 3 services, 1h, 1h,...   \n",
       "1031  40min - 1h 15min, 40min, 50min, 1h, 1h 15min, ...   \n",
       "1032  30min, 30min - 1h, 30min, 1h, 45min - 1h, 45mi...   \n",
       "1033  15min, 15min, 15min, 15min, 15min, 15min, 15mi...   \n",
       "1034  35min, 35min, 35min, 35min, 35min, 35min, 35mi...   \n",
       "\n",
       "                                    service_description  \\\n",
       "0     \"For Fathers Day, Sunday 18 June, until Tuesda...   \n",
       "1     Special offer price: from 1,000 AED to 299 AED...   \n",
       "2     Choose between, Energizing Hairloss, Detoxifyi...   \n",
       "3     Consultation, full hair cut and styling by one...   \n",
       "4     Consultation- Cut | Shampoo | Condition | Styl...   \n",
       "...                                                 ...   \n",
       "1030                                                      \n",
       "1031  Including shampoo and conditioner., An essenti...   \n",
       "1032  Gelish is a pure, thin UV gel that is pigmente...   \n",
       "1033                                                      \n",
       "1034                                                      \n",
       "\n",
       "                                                 prices  \n",
       "0     from AED 135, AED 135, AED 160, AED 295, from ...  \n",
       "1     AED 299, AED 499, AED 150, AED 200, AED 225, A...  \n",
       "2     AED 235, AED 241.20, AED 180, AED 155, AED 245...  \n",
       "3     AED 180, AED 235, AED 105, AED 195, AED 195, f...  \n",
       "4     AED 170, AED 250, AED 190, AED 100, AED 270, A...  \n",
       "...                                                 ...  \n",
       "1030  AED 60, AED 25, AED 40, AED 10, AED 175, AED 1...  \n",
       "1031  from AED 85, AED 85, AED 105, AED 125, AED 145...  \n",
       "1032  AED 170, from AED 80, AED 80, AED 100, from AE...  \n",
       "1033  AED 70, AED 40, AED 30, AED 25, AED 35, AED 50...  \n",
       "1034  AED 70, AED 40, AED 30, AED 25, AED 50, AED 70...  \n",
       "\n",
       "[1035 rows x 4 columns]"
      ]
     },
     "execution_count": 101,
     "metadata": {},
     "output_type": "execute_result"
    }
   ],
   "source": [
    "sevice_df"
   ]
  },
  {
   "cell_type": "code",
   "execution_count": 111,
   "metadata": {},
   "outputs": [],
   "source": [
    "# Merge DataFrames based on the 'Key' column\n",
    "merged_df = pd.concat([new_df, sevice_df], axis=1)"
   ]
  },
  {
   "cell_type": "code",
   "execution_count": 113,
   "metadata": {},
   "outputs": [],
   "source": [
    "merged_df.to_csv(r\"C:\\Users\\shade alarbed\\Downloads\\salon data\\salon_dubai_final.csv\")"
   ]
  },
  {
   "cell_type": "code",
   "execution_count": null,
   "metadata": {},
   "outputs": [],
   "source": []
  }
 ],
 "metadata": {
  "kernelspec": {
   "display_name": "Python 3.8.8 ('base')",
   "language": "python",
   "name": "python3"
  },
  "language_info": {
   "codemirror_mode": {
    "name": "ipython",
    "version": 3
   },
   "file_extension": ".py",
   "mimetype": "text/x-python",
   "name": "python",
   "nbconvert_exporter": "python",
   "pygments_lexer": "ipython3",
   "version": "3.8.8"
  },
  "orig_nbformat": 4,
  "vscode": {
   "interpreter": {
    "hash": "499611cf682617453859df28d764ba83355b90631bd475eb5194b9b626bbcbe7"
   }
  }
 },
 "nbformat": 4,
 "nbformat_minor": 2
}
