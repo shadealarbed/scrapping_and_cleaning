{
 "cells": [
  {
   "cell_type": "code",
   "execution_count": 1,
   "metadata": {},
   "outputs": [],
   "source": [
    "import selenium\n",
    "import requests\n",
    "from bs4 import BeautifulSoup"
   ]
  },
  {
   "cell_type": "code",
   "execution_count": 123,
   "metadata": {},
   "outputs": [],
   "source": [
    "url = 'https://www.fresha.com/search?https://www.fresha.com/search?address=France%20Cluster%2C%20Dubai%2C%20United%20Arab%20Emirates&address-type=&box=25.1633435%2C55.4054589%2C25.1588111%2C55.3976039&business-type-id=4&center=48.49779459550605%2C3.1705921743361642&countryCode=AE&distance=157.19063953374086=France%20Cluster%2C%20Dubai%2C%20United%20Arab%20Emirates&address-type=&box=25.1633435%2C55.4054589%2C25.1588111%2C55.3976039&business-type-id=4&center=48.566849212809416%2C3.095468427782251&countryCode=AE&distance=127.27234065732816'"
   ]
  },
  {
   "cell_type": "code",
   "execution_count": 124,
   "metadata": {},
   "outputs": [],
   "source": [
    "# Send a GET request to the URL\n",
    "response = requests.get(url)"
   ]
  },
  {
   "cell_type": "code",
   "execution_count": 125,
   "metadata": {},
   "outputs": [
    {
     "name": "stdout",
     "output_type": "stream",
     "text": [
      "https://terms.fresha.com/cookies\n"
     ]
    }
   ],
   "source": [
    "\n",
    "# Check if the request was successful (status code 200)\n",
    "if response.status_code == 200:\n",
    "    # Parse the HTML content of the page\n",
    "    soup = BeautifulSoup(response.text, 'html.parser')\n",
    "\n",
    "    # Find all anchor (a) tags with the specified class and href attributes\n",
    "    all_links = soup.find_all('a', href=True)\n",
    "\n",
    "    # Print or process the href attributes\n",
    "    for link in all_links:\n",
    "        print(link['href'])\n",
    "else:\n",
    "    print(f\"Failed to retrieve the page. Status code: {response.status_code}\")"
   ]
  },
  {
   "cell_type": "code",
   "execution_count": 126,
   "metadata": {},
   "outputs": [
    {
     "data": {
      "text/plain": [
       "[<a class=\"TvUFH8 fbFRsX -ZIw2s _3Adhli Fh3t3t _7eJ8hd dbZKM+\" href=\"https://terms.fresha.com/cookies\" target=\"_blank\"><span class=\"Qv1YQt\">Cookie policy</span></a>]"
      ]
     },
     "execution_count": 126,
     "metadata": {},
     "output_type": "execute_result"
    }
   ],
   "source": [
    "all_links"
   ]
  },
  {
   "cell_type": "code",
   "execution_count": 127,
   "metadata": {},
   "outputs": [],
   "source": [
    "data = soup.find_all(\"div\",class_=\"gmLFFo\")"
   ]
  },
  {
   "cell_type": "code",
   "execution_count": 128,
   "metadata": {},
   "outputs": [
    {
     "data": {
      "text/plain": [
       "[]"
      ]
     },
     "execution_count": 128,
     "metadata": {},
     "output_type": "execute_result"
    }
   ],
   "source": [
    "data"
   ]
  },
  {
   "cell_type": "code",
   "execution_count": 4,
   "metadata": {},
   "outputs": [],
   "source": [
    "from selenium import webdriver"
   ]
  },
  {
   "cell_type": "code",
   "execution_count": 181,
   "metadata": {},
   "outputs": [],
   "source": [
    "url = \"https://www.fresha.com/lp/en/bt/hair-salons/in/fr-paris\""
   ]
  },
  {
   "cell_type": "code",
   "execution_count": 182,
   "metadata": {},
   "outputs": [
    {
     "name": "stdout",
     "output_type": "stream",
     "text": [
      "https://www.fresha.com\n",
      "https://www.fresha.com\n",
      "https://www.fresha.com/search?address=Paris,%20France&box=48.9436223,2.3329561,48.7843502,2.1802234&center=48.863986249999996,2.25658975&countryCode=FR&business-type-id=1&sort=recommended\n",
      "https://www.fresha.com/for-business\n",
      "https://www.fresha.com/search?address=Paris,%20France&box=48.9436223,2.3329561,48.7843502,2.1802234&center=48.863986249999996,2.25658975&countryCode=FR&business-type-id=1&sort=recommended\n",
      "https://www.fresha.com/search?address=Paris,%20France&box=48.9436223,2.3329561,48.7843502,2.1802234&center=48.863986249999996,2.25658975&countryCode=FR&business-type-id=1&sort=recommended\n",
      "https://www.fresha.com/search?address=Paris,%20France&box=48.9436223,2.3329561,48.7843502,2.1802234&center=48.863986249999996,2.25658975&countryCode=FR&business-type-id=1&sort=recommended\n",
      "https://www.fresha.com\n",
      "https://www.fresha.com/auth?type=socials-login\n",
      "https://www.fresha.com/app-store-redirect\n",
      "https://www.fresha.com/contact-us\n",
      "https://www.fresha.com/for-business\n",
      "https://www.fresha.com/auth?type=socials-login\n",
      "https://www.fresha.com/app-store-redirect\n",
      "https://www.fresha.com/contact-us\n",
      "https://www.fresha.com/for-business\n",
      "https://www.fresha.com\n",
      "https://www.fresha.com/lp/en/bt/hair-salons\n",
      "https://www.fresha.com/search?address=Paris,%20France&box=48.9436223,2.3329561,48.7843502,2.1802234&center=48.863986249999996,2.25658975&countryCode=FR&business-type-id=1&sort=recommended#map\n",
      "https://www.fresha.com/lp/en/tt/hair-treatments/in/fr-paris-hauts-de-seine\n",
      "https://www.fresha.com/lp/en/tt/women's-haircuts/in/fr-paris-hauts-de-seine\n",
      "https://www.fresha.com/lp/en/tt/blow-dries-and-blowouts/in/fr-paris-hauts-de-seine\n",
      "https://www.fresha.com/lp/en/tt/hair-colouring/in/fr-paris-hauts-de-seine\n",
      "https://www.fresha.com/lp/en/tt/children's-haircuts/in/fr-paris-hauts-de-seine\n",
      "https://www.fresha.com/lp/en/tt/hair-weaves/in/fr-paris-hauts-de-seine\n",
      "https://www.fresha.com/lp/en/tt/keratin-treatments/in/fr-paris-hauts-de-seine\n",
      "https://www.fresha.com/lp/en/tt/locs-hair-styling/in/fr-paris-hauts-de-seine\n",
      "https://www.fresha.com/lp/en/tt/hair-braiding/in/fr-paris-hauts-de-seine\n",
      "https://www.fresha.com/lp/en/tt/balayage-hair-colouring/in/fr-paris-hauts-de-seine\n",
      "https://www.fresha.com/lp/en/tt/hair-colouring-highlights/in/fr-paris\n",
      "https://www.fresha.com/lp/en/tt/hair-perms/in/fr-paris-hauts-de-seine\n",
      "https://www.fresha.com/lp/en/tt/haircuts-for-curly-hair/in/fr-paris-hauts-de-seine\n",
      "https://www.fresha.com/lp/en/tt/permanent-hair-straightening/in/fr-paris-hauts-de-seine\n",
      "https://www.fresha.com/lp/en/tt/hair-extensions/in/fr-paris-hauts-de-seine\n",
      "https://www.fresha.com/lvp/jean-louis-david-coiffeur-colombes-rue-saint-denis-colombes-8JM2oQ\n",
      "https://www.fresha.com/lvp/jean-louis-david-coiffeur-colombes-rue-saint-denis-colombes-8JM2oQ\n",
      "tel:+33 1 42 42 47 80\n",
      "tel:+33 1 42 42 47 80\n",
      "tel:+33 1 42 42 47 80\n",
      "https://www.fresha.com/lvp/barber-town-avenue-des-gresillons-asnieres-sur-seine-bxLJNE\n",
      "https://www.fresha.com/lvp/barber-town-avenue-des-gresillons-asnieres-sur-seine-bxLJNE\n",
      "tel:+33 9 52 39 64 27\n",
      "tel:+33 9 52 39 64 27\n",
      "tel:+33 9 52 39 64 27\n",
      "https://www.fresha.com/lvp/franck-provost-hairdresser-colombes-rue-saint-denis-colombes-9Qao9e\n",
      "https://www.fresha.com/lvp/franck-provost-hairdresser-colombes-rue-saint-denis-colombes-9Qao9e\n",
      "tel:+33 1 47 81 93 88\n",
      "tel:+33 1 47 81 93 88\n",
      "tel:+33 1 47 81 93 88\n",
      "https://www.fresha.com/lvp/tag-barber-shop-neuilly-avenue-charles-de-gaulle-neuilly-sur-seine-583MQ7\n",
      "https://www.fresha.com/lvp/tag-barber-shop-neuilly-avenue-charles-de-gaulle-neuilly-sur-seine-583MQ7\n",
      "tel:+33 7 85 02 07 95\n",
      "tel:+33 7 85 02 07 95\n",
      "tel:+33 7 85 02 07 95\n",
      "https://www.fresha.com/lvp/flashback-barber-rue-voltaire-levallois-perret-X4aq6A\n",
      "https://www.fresha.com/lvp/flashback-barber-rue-voltaire-levallois-perret-X4aq6A\n",
      "tel:+33 9 88 05 19 83\n",
      "tel:+33 9 88 05 19 83\n",
      "tel:+33 9 88 05 19 83\n",
      "https://www.fresha.com/lvp/bar-a-sourcils-benefit-brow-bar-levallois-so-ouest-rue-dalsace-levallois-perret-q8gnvR\n",
      "https://www.fresha.com/lvp/bar-a-sourcils-benefit-brow-bar-levallois-so-ouest-rue-dalsace-levallois-perret-q8gnvR\n",
      "tel:+33 1 47 30 56 90\n",
      "tel:+33 1 47 30 56 90\n",
      "tel:+33 1 47 30 56 90\n",
      "https://www.fresha.com/lvp/my-candy-beauty-institut-rehaussement-de-cils-detatouage-carbon-peel-rue-du-gue-yXy8kl\n",
      "https://www.fresha.com/lvp/my-candy-beauty-institut-rehaussement-de-cils-detatouage-carbon-peel-rue-du-gue-yXy8kl\n",
      "tel:+33 6 56 67 30 17\n",
      "tel:+33 6 56 67 30 17\n",
      "tel:+33 6 56 67 30 17\n",
      "https://www.fresha.com/lvp/jolie-nails-rue-gustave-rey-la-garenne-colombes-q8gbQR\n",
      "https://www.fresha.com/lvp/jolie-nails-rue-gustave-rey-la-garenne-colombes-q8gbQR\n",
      "tel:+33 7 61 05 19 34\n",
      "tel:+33 7 61 05 19 34\n",
      "tel:+33 7 61 05 19 34\n",
      "https://www.fresha.com/lvp/christel-maquillage-permanent-place-de-leglise-clamart-wr6K0X\n",
      "https://www.fresha.com/lvp/christel-maquillage-permanent-place-de-leglise-clamart-wr6K0X\n",
      "tel:+33 7 82 97 12 48\n",
      "tel:+33 7 82 97 12 48\n",
      "tel:+33 7 82 97 12 48\n",
      "https://www.fresha.com/lvp/ka-beauty-and-sculpt-rue-de-chatillon-clamart-znx60n\n",
      "https://www.fresha.com/lvp/ka-beauty-and-sculpt-rue-de-chatillon-clamart-znx60n\n",
      "tel:+33 6 17 05 68 13\n",
      "tel:+33 6 17 05 68 13\n",
      "tel:+33 6 17 05 68 13\n",
      "https://www.fresha.com/lvp/barber-sur-seine-boulevard-voltaire-asnieres-sur-seine-jbQjAy\n",
      "https://www.fresha.com/lvp/barber-sur-seine-boulevard-voltaire-asnieres-sur-seine-jbQjAy\n",
      "tel:+33 9 51 02 17 00\n",
      "tel:+33 9 51 02 17 00\n",
      "tel:+33 9 51 02 17 00\n",
      "https://www.fresha.com/lvp/les-jardins-de-saida-avenue-du-ponant-villeneuve-la-garenne-Mxa8Rw\n",
      "https://www.fresha.com/lvp/les-jardins-de-saida-avenue-du-ponant-villeneuve-la-garenne-Mxa8Rw\n",
      "tel:+33 6 89 72 43 84\n",
      "tel:+33 6 89 72 43 84\n",
      "tel:+33 6 89 72 43 84\n",
      "https://www.fresha.com/lvp/institut-de-beaute-spa-reyana-rue-olympe-de-gouges-asnieres-sur-seine-2Gq39o\n",
      "https://www.fresha.com/lvp/institut-de-beaute-spa-reyana-rue-olympe-de-gouges-asnieres-sur-seine-2Gq39o\n",
      "tel:+33 1 40 86 71 35\n",
      "tel:+33 1 40 86 71 35\n",
      "tel:+33 1 40 86 71 35\n",
      "https://www.fresha.com/lvp/anouchka-leblanc-coiffure-rue-auguste-gervais-issy-les-moulineaux-QvarA3\n",
      "https://www.fresha.com/lvp/anouchka-leblanc-coiffure-rue-auguste-gervais-issy-les-moulineaux-QvarA3\n",
      "tel:+33 1 46 42 89 53\n",
      "tel:+33 1 46 42 89 53\n",
      "tel:+33 1 46 42 89 53\n",
      "https://www.fresha.com/lvp/bar-a-sourcils-benefit-brow-bar-villeneuve-la-garenne-boulevard-gallieni-KzagPq\n",
      "https://www.fresha.com/lvp/bar-a-sourcils-benefit-brow-bar-villeneuve-la-garenne-boulevard-gallieni-KzagPq\n",
      "tel:+33 1 47 90 72 30\n",
      "tel:+33 1 47 90 72 30\n",
      "tel:+33 1 47 90 72 30\n",
      "https://www.fresha.com/lvp/beautyssime-neuilly-rue-berteaux-dumas-neuilly-sur-seine-ZDaAYk\n",
      "https://www.fresha.com/lvp/beautyssime-neuilly-rue-berteaux-dumas-neuilly-sur-seine-ZDaAYk\n",
      "tel:+33 1 46 24 58 77\n",
      "tel:+33 1 46 24 58 77\n",
      "tel:+33 1 46 24 58 77\n",
      "https://www.fresha.com/lvp/mods-hair-colombes-rue-saint-denis-colombes-znxjln\n",
      "https://www.fresha.com/lvp/mods-hair-colombes-rue-saint-denis-colombes-znxjln\n",
      "tel:+33 1 42 42 05 78\n",
      "tel:+33 1 42 42 05 78\n",
      "tel:+33 1 42 42 05 78\n",
      "https://www.fresha.com/lvp/o-bar-a-sourcils-rue-palloy-clichy-jbQ4wa\n",
      "https://www.fresha.com/lvp/o-bar-a-sourcils-rue-palloy-clichy-jbQ4wa\n",
      "tel:+33 1 70 21 22 86\n",
      "tel:+33 1 70 21 22 86\n",
      "tel:+33 1 70 21 22 86\n",
      "https://www.fresha.com/lvp/escale-beaute-paris-rue-maurice-bokanowski-asnieres-sur-seine-bxL3aA\n",
      "https://www.fresha.com/lvp/escale-beaute-paris-rue-maurice-bokanowski-asnieres-sur-seine-bxL3aA\n",
      "tel:+33 6 52 48 10 32\n",
      "tel:+33 6 52 48 10 32\n",
      "tel:+33 6 52 48 10 32\n",
      "https://www.fresha.com/lvp/diamina-boulevard-jean-jaures-boulogne-billancourt-n6nReQ\n",
      "https://www.fresha.com/lvp/diamina-boulevard-jean-jaures-boulogne-billancourt-n6nReQ\n",
      "tel:072054202120072078\n",
      "tel:072054202120072078\n",
      "tel:072054202120072078\n",
      "https://www.fresha.com/lvp/a-moment-of-beauty-beauty-salon-rue-du-commandant-guilbaud-paris-jbQjwk\n",
      "https://www.fresha.com/lvp/a-moment-of-beauty-beauty-salon-rue-du-commandant-guilbaud-paris-jbQjwk\n",
      "tel:+33 9 86 63 66 77\n",
      "tel:+33 9 86 63 66 77\n",
      "tel:+33 9 86 63 66 77\n",
      "https://www.fresha.com/lvp/hair-care-boulevard-du-general-leclerc-nanterre-znxjXe\n",
      "https://www.fresha.com/lvp/hair-care-boulevard-du-general-leclerc-nanterre-znxjXe\n",
      "tel:+33 6 68 96 31 19\n",
      "tel:+33 6 68 96 31 19\n",
      "tel:+33 6 68 96 31 19\n",
      "https://www.fresha.com/lvp/joes-barbershop-rue-martre-clichy-MxavGz\n",
      "https://www.fresha.com/lvp/joes-barbershop-rue-martre-clichy-MxavGz\n",
      "tel:+33 1 47 39 52 80\n",
      "tel:+33 1 47 39 52 80\n",
      "tel:+33 1 47 39 52 80\n",
      "https://www.fresha.com/lvp/charles-b-barbers-groomers-rue-carnot-levallois-perret-jbw7gy\n",
      "https://www.fresha.com/lvp/charles-b-barbers-groomers-rue-carnot-levallois-perret-jbw7gy\n",
      "tel:+33 9 75 56 96 27\n",
      "tel:+33 9 75 56 96 27\n",
      "tel:+33 9 75 56 96 27\n",
      "https://www.fresha.com/lvp/mb-coiffure-boulevard-charles-de-gaulle-villeneuve-la-garenne-8JMKNM\n",
      "https://www.fresha.com/lvp/mb-coiffure-boulevard-charles-de-gaulle-villeneuve-la-garenne-8JMKNM\n",
      "tel:+33 1 47 90 94 29\n",
      "tel:+33 1 47 90 94 29\n",
      "tel:+33 1 47 90 94 29\n",
      "https://www.fresha.com/lvp/barber-shop-karamela-boulevard-jean-jaures-clichy-n6nEXK\n",
      "https://www.fresha.com/lvp/barber-shop-karamela-boulevard-jean-jaures-clichy-n6nEXK\n",
      "tel:+33 1 89 34 31 78\n",
      "tel:+33 1 89 34 31 78\n",
      "tel:+33 1 89 34 31 78\n",
      "https://www.fresha.com/lvp/misencil-boutique-boulogne-rue-de-verdun-boulogne-billancourt-PV2zDY\n",
      "https://www.fresha.com/lvp/misencil-boutique-boulogne-rue-de-verdun-boulogne-billancourt-PV2zDY\n",
      "tel:+33 1 40 60 05 60\n",
      "tel:+33 1 40 60 05 60\n",
      "tel:+33 1 40 60 05 60\n",
      "https://www.fresha.com/lvp/lyndazur-place-maurice-chavany-colombes-BoavLJ\n",
      "https://www.fresha.com/lvp/lyndazur-place-maurice-chavany-colombes-BoavLJ\n",
      "tel:+33 6 43 18 58 36\n",
      "tel:+33 6 43 18 58 36\n",
      "tel:+33 6 43 18 58 36\n",
      "https://www.fresha.com/lvp/agathe-marie-paris-maquillage-permanent-avenue-charles-de-gaulle-neuilly-sur-lo7R0e\n",
      "https://www.fresha.com/lvp/agathe-marie-paris-maquillage-permanent-avenue-charles-de-gaulle-neuilly-sur-lo7R0e\n",
      "tel:+33 6 78 65 20 41\n",
      "tel:+33 6 78 65 20 41\n",
      "tel:+33 6 78 65 20 41\n",
      "https://www.fresha.com/lvp/the-kut-barber-shop-place-des-maitres-vignerons-rueil-malmaison-QvkDzR\n",
      "https://www.fresha.com/lvp/the-kut-barber-shop-place-des-maitres-vignerons-rueil-malmaison-QvkDzR\n",
      "tel:+33 9 86 26 25 35\n",
      "tel:+33 9 86 26 25 35\n",
      "tel:+33 9 86 26 25 35\n",
      "https://www.fresha.com/lvp/eric-stipa-coiffeur-asnieres-sur-seine-rue-denis-papin-asnieres-sur-seine-LyX83A\n",
      "https://www.fresha.com/lvp/eric-stipa-coiffeur-asnieres-sur-seine-rue-denis-papin-asnieres-sur-seine-LyX83A\n",
      "tel:+33 1 47 93 90 30\n",
      "tel:+33 1 47 93 90 30\n",
      "tel:+33 1 47 93 90 30\n",
      "https://www.fresha.com/lvp/saint-algue-coiffeur-villeneuve-la-garenne-boulevard-gallieni-villeneuve-la-bxv2XQ\n",
      "https://www.fresha.com/lvp/saint-algue-coiffeur-villeneuve-la-garenne-boulevard-gallieni-villeneuve-la-bxv2XQ\n",
      "tel:+33 1 75 61 29 04\n",
      "tel:+33 1 75 61 29 04\n",
      "tel:+33 1 75 61 29 04\n",
      "https://www.fresha.com/lvp/barber-shop-sixty-five-avenue-dargenteuil-asnieres-sur-seine-eXl6Dx\n",
      "https://www.fresha.com/lvp/barber-shop-sixty-five-avenue-dargenteuil-asnieres-sur-seine-eXl6Dx\n",
      "tel:+33 9 84 20 61 29\n",
      "tel:+33 9 84 20 61 29\n",
      "tel:+33 9 84 20 61 29\n",
      "https://www.fresha.com/lvp/emilie-beaute-boulevard-jean-jaures-clichy-2GMzDE\n",
      "https://www.fresha.com/lvp/emilie-beaute-boulevard-jean-jaures-clichy-2GMzDE\n",
      "tel:+33 7 67 82 86 09\n",
      "tel:+33 7 67 82 86 09\n",
      "tel:+33 7 67 82 86 09\n",
      "https://www.fresha.com/lvp/balance-and-beauty-place-de-la-republique-clichy-xZNl6v\n",
      "https://www.fresha.com/lvp/balance-and-beauty-place-de-la-republique-clichy-xZNl6v\n",
      "tel:+33 1 47 31 27 29\n",
      "tel:+33 1 47 31 27 29\n",
      "tel:+33 1 47 31 27 29\n",
      "https://www.fresha.com/lvp/alice-beauty-mail-roger-prevot-villeneuve-la-garenne-8JMKz2\n",
      "https://www.fresha.com/lvp/alice-beauty-mail-roger-prevot-villeneuve-la-garenne-8JMKz2\n",
      "tel:+33 7 69 66 25 36\n",
      "tel:+33 7 69 66 25 36\n",
      "tel:+33 7 69 66 25 36\n",
      "https://www.fresha.com/lvp/latelier-intermede-coiffeur-courbevoie-boulevard-saint-denis-courbevoie-A8a07Z\n",
      "https://www.fresha.com/lvp/latelier-intermede-coiffeur-courbevoie-boulevard-saint-denis-courbevoie-A8a07Z\n",
      "tel:+33 1 55 70 49 30\n",
      "tel:+33 1 55 70 49 30\n",
      "tel:+33 1 55 70 49 30\n",
      "https://www.fresha.com/lvp/barber-worth-boulevard-jean-jaures-clichy-n6nZrD\n",
      "https://www.fresha.com/lvp/barber-worth-boulevard-jean-jaures-clichy-n6nZrD\n",
      "tel:+33 6 12 19 81 63\n",
      "tel:+33 6 12 19 81 63\n",
      "tel:+33 6 12 19 81 63\n",
      "https://www.fresha.com/lvp/endless-spa-avenue-raymond-croland-fontenay-aux-roses-Rvr6YJ\n",
      "https://www.fresha.com/lvp/endless-spa-avenue-raymond-croland-fontenay-aux-roses-Rvr6YJ\n",
      "tel:+33 6 63 41 48 68\n",
      "tel:+33 6 63 41 48 68\n",
      "tel:+33 6 63 41 48 68\n",
      "https://www.fresha.com/lvp/latelier-de-zara-rue-charles-et-rene-auffray-clichy-Rva5vD\n",
      "https://www.fresha.com/lvp/latelier-de-zara-rue-charles-et-rene-auffray-clichy-Rva5vD\n",
      "tel:+33 6 99 45 47 37\n",
      "tel:+33 6 99 45 47 37\n",
      "tel:+33 6 99 45 47 37\n",
      "https://www.fresha.com/lvp/cryowell-bien-etre-performance-par-le-froid-rue-du-president-wilson-levallois-lo7qaw\n",
      "https://www.fresha.com/lvp/cryowell-bien-etre-performance-par-le-froid-rue-du-president-wilson-levallois-lo7qaw\n",
      "tel:+33 9 81 11 11 34\n",
      "tel:+33 9 81 11 11 34\n",
      "tel:+33 9 81 11 11 34\n",
      "https://www.fresha.com/lvp/the-urban-spa-cosmetic-center-by-parasens-passage-pierre-bezier-boulogne-G5aE5Y\n",
      "https://www.fresha.com/lvp/the-urban-spa-cosmetic-center-by-parasens-passage-pierre-bezier-boulogne-G5aE5Y\n",
      "tel:+33 9 82 43 22 10\n",
      "tel:+33 9 82 43 22 10\n",
      "tel:+33 9 82 43 22 10\n",
      "https://www.fresha.com/lvp/zen-attitude-spa-quai-du-point-du-jour-boulogne-billancourt-Noaxyk\n",
      "https://www.fresha.com/lvp/zen-attitude-spa-quai-du-point-du-jour-boulogne-billancourt-Noaxyk\n",
      "tel:+33 9 81 00 62 63\n",
      "tel:+33 9 81 00 62 63\n",
      "tel:+33 9 81 00 62 63\n",
      "https://www.fresha.com/lvp/jackson-911-rue-du-gue-rueil-malmaison-ZD6XzM\n",
      "https://www.fresha.com/lvp/jackson-911-rue-du-gue-rueil-malmaison-ZD6XzM\n",
      "tel:+33 1 75 84 63 50\n",
      "tel:+33 1 75 84 63 50\n",
      "tel:+33 1 75 84 63 50\n",
      "https://www.fresha.com/lvp/o-sun-city-centre-de-bronzage-avenue-laurent-cely-asnieres-sur-seine-G5aDla\n",
      "https://www.fresha.com/lvp/o-sun-city-centre-de-bronzage-avenue-laurent-cely-asnieres-sur-seine-G5aDla\n",
      "tel:+33 1 47 33 37 21\n",
      "tel:+33 1 47 33 37 21\n",
      "tel:+33 1 47 33 37 21\n",
      "https://www.fresha.com/lvp/r-barber-rue-berteaux-dumas-neuilly-sur-seine-7rEVGX\n",
      "https://www.fresha.com/lvp/r-barber-rue-berteaux-dumas-neuilly-sur-seine-7rEVGX\n",
      "tel:+33 1 47 38 82 96\n",
      "tel:+33 1 47 38 82 96\n",
      "tel:+33 1 47 38 82 96\n",
      "https://www.fresha.com/lvp/ous-barber-shop-rue-du-landy-clichy-Qvar3Z\n",
      "https://www.fresha.com/lvp/ous-barber-shop-rue-du-landy-clichy-Qvar3Z\n",
      "tel:+33 6 24 23 00 49\n",
      "tel:+33 6 24 23 00 49\n",
      "tel:+33 6 24 23 00 49\n",
      "https://www.fresha.com/lvp/loulou-nails-clichy-boulevard-jean-jaures-clichy-n6nZDD\n",
      "https://www.fresha.com/lvp/loulou-nails-clichy-boulevard-jean-jaures-clichy-n6nZDD\n",
      "tel:+33 6 35 54 11 49\n",
      "tel:+33 6 35 54 11 49\n",
      "tel:+33 6 35 54 11 49\n",
      "https://www.fresha.com/lvp/esthetika-by-sunset-avenue-avenue-jean-baptiste-clement-boulogne-billancourt-kqZz47\n",
      "https://www.fresha.com/lvp/esthetika-by-sunset-avenue-avenue-jean-baptiste-clement-boulogne-billancourt-kqZz47\n",
      "tel:+33 1 49 09 10 09\n",
      "tel:+33 1 49 09 10 09\n",
      "tel:+33 1 49 09 10 09\n",
      "https://www.fresha.com/lvp/bb-beauty-institut-rue-de-neuilly-clichy-58zwR4\n",
      "https://www.fresha.com/lvp/bb-beauty-institut-rue-de-neuilly-clichy-58zwR4\n",
      "tel:+33 1 75 84 52 07\n",
      "tel:+33 1 75 84 52 07\n",
      "tel:+33 1 75 84 52 07\n",
      "https://www.fresha.com/lvp/shine-hair-beauty-rue-du-docteur-emile-roux-clichy-Qvall8\n",
      "https://www.fresha.com/lvp/shine-hair-beauty-rue-du-docteur-emile-roux-clichy-Qvall8\n",
      "tel:+33 1 46 17 45 31\n",
      "tel:+33 1 46 17 45 31\n",
      "tel:+33 1 46 17 45 31\n",
      "https://www.fresha.com/lvp/herabay-nail-spa-bi-ongles-rue-carnot-levallois-perret-wr6K5G\n",
      "https://www.fresha.com/lvp/herabay-nail-spa-bi-ongles-rue-carnot-levallois-perret-wr6K5G\n",
      "tel:+33 1 40 89 39 44\n",
      "tel:+33 1 40 89 39 44\n",
      "tel:+33 1 40 89 39 44\n",
      "https://www.fresha.com/lvp/aquamomento-rue-pierre-bonnard-fontenay-aux-roses-6QWwWb\n",
      "https://www.fresha.com/lvp/aquamomento-rue-pierre-bonnard-fontenay-aux-roses-6QWwWb\n",
      "tel:+33 1 41 87 06 62\n",
      "tel:+33 1 41 87 06 62\n",
      "tel:+33 1 41 87 06 62\n",
      "https://www.fresha.com/lvp/top-nails-rue-henri-barbusse-nanterre-Kzaoa8\n",
      "https://www.fresha.com/lvp/top-nails-rue-henri-barbusse-nanterre-Kzaoa8\n",
      "tel:+33 6 52 36 19 28\n",
      "tel:+33 6 52 36 19 28\n",
      "tel:+33 6 52 36 19 28\n",
      "https://www.fresha.com/lvp/luxury-sun-beauty-rue-de-verdun-suresnes-2Gq3MJ\n",
      "https://www.fresha.com/lvp/luxury-sun-beauty-rue-de-verdun-suresnes-2Gq3MJ\n",
      "tel:+33 6 34 65 30 64\n",
      "tel:+33 6 34 65 30 64\n",
      "tel:+33 6 34 65 30 64\n",
      "https://www.fresha.com/lvp/lilha-threading-rue-de-verdun-puteaux-Eva3YK\n",
      "https://www.fresha.com/lvp/lilha-threading-rue-de-verdun-puteaux-Eva3YK\n",
      "tel:+33 6 43 62 23 82\n",
      "tel:+33 6 43 62 23 82\n",
      "tel:+33 6 43 62 23 82\n",
      "https://www.fresha.com/lvp/o-zoli-nails-rue-henri-barbusse-clichy-RvaYAY\n",
      "https://www.fresha.com/lvp/o-zoli-nails-rue-henri-barbusse-clichy-RvaYAY\n",
      "tel:+33 6 10 60 96 97\n",
      "tel:+33 6 10 60 96 97\n",
      "tel:+33 6 10 60 96 97\n",
      "https://www.fresha.com/lvp/caissa-beaute-rue-jules-ferry-courbevoie-YK0zv3\n",
      "https://www.fresha.com/lvp/caissa-beaute-rue-jules-ferry-courbevoie-YK0zv3\n",
      "tel:+33 6 66 23 52 02\n",
      "tel:+33 6 66 23 52 02\n",
      "tel:+33 6 66 23 52 02\n",
      "https://www.fresha.com/lvp/clichy-nails-boulevard-jean-jaures-clichy-bxvN7A\n",
      "https://www.fresha.com/lvp/clichy-nails-boulevard-jean-jaures-clichy-bxvN7A\n",
      "tel:+33 1 47 37 13 44\n",
      "tel:+33 1 47 37 13 44\n",
      "tel:+33 1 47 37 13 44\n",
      "https://www.fresha.com\n",
      "https://www.fresha.com/lp/en/bt/hair-salons\n",
      "https://www.fresha.com/download-app\n",
      "https://www.fresha.com/lp/en/bt/hair-salons/in/fr-paris/andrÃ©-malraux\n",
      "https://www.fresha.com/lp/en/bt/hair-salons/in/fr-paris/carnot-gambetta\n",
      "https://www.fresha.com/lp/en/tt/hair-weaves/in/fr-paris-hauts-de-seine\n",
      "https://www.fresha.com/lp/en/tt/hair-treatments/in/fr-paris-hauts-de-seine\n",
      "https://www.fresha.com/lp/en/tt/locs-hair-styling/in/fr-paris-hauts-de-seine\n",
      "https://www.fresha.com/lp/en/tt/hair-braiding/in/fr-paris-hauts-de-seine\n",
      "https://www.fresha.com/for-business\n",
      "https://www.fresha.com/contact-us/for-bookers\n",
      "https://www.fresha.com/lp/en/bt/barbershops/in/fr-paris\n",
      "https://www.fresha.com/lp/en/bt/spas/in/fr-paris-hauts-de-seine\n",
      "https://www.fresha.com/lp/en/bt/tanning-studios/in/fr-paris\n",
      "https://www.fresha.com/lp/en/bt/aesthetics/in/fr-paris\n",
      "https://www.fresha.com/lp/en/bt/massage/in/fr-paris-hauts-de-seine\n",
      "https://www.fresha.com/lp/en/bt/waxing-salons/in/fr-paris\n",
      "https://www.fresha.com/lp/en/bt/beauty-salons/in/fr-paris\n",
      "https://www.fresha.com/lp/en/bt/nail-salons/in/fr-paris-hauts-de-seine\n",
      "https://www.fresha.com/lp/en/bt/eyebrows-and-lashes/in/fr-paris\n",
      "https://www.fresha.com/app-store-redirect\n",
      "https://www.fresha.com/app-store-redirect\n",
      "https://www.fresha.com/partners-app-store-redirect\n",
      "https://www.fresha.com/partners-app-store-redirect\n",
      "https://www.fresha.com/lp/en/bt/hair-salons/in/fr-paris/levallois-perret\n",
      "https://www.fresha.com/lp/en/bt/hair-salons/in/fr-paris/asniÃ¨res-sur-seine\n",
      "https://www.fresha.com/lp/en/bt/hair-salons/in/fr-paris/vallÃ©es\n",
      "https://www.fresha.com/lp/en/bt/hair-salons/in/fr-paris/carnot-gambetta\n",
      "https://www.fresha.com/lp/en/bt/hair-salons/in/fr-paris/wilson-rivay\n",
      "https://www.fresha.com/lp/en/bt/hair-salons/in/fr-paris/bÃ©con-les-bruyÃ¨res\n",
      "https://www.fresha.com/lp/en/bt/hair-salons/in/fr-paris/saint-Ã©xupÃ©ry\n",
      "https://www.fresha.com/lp/en/bt/hair-salons/in/fr-paris/plateau\n",
      "https://www.fresha.com/lp/en/bt/hair-salons/in/fr-paris/jean-baptiste-clÃ©ment\n",
      "https://www.fresha.com/lp/en/bt/hair-salons/in/fr-paris/franklin\n",
      "https://www.fresha.com/lp/en/bt/hair-salons/in/fr-paris/renards\n",
      "https://www.fresha.com/lp/en/bt/hair-salons/in/fr-paris/plaine-des-sablons\n",
      "https://www.fresha.com/lp/en/bt/hair-salons/in/fr-paris/trapÃ¨ze\n",
      "https://www.fresha.com/lp/en/bt/hair-salons/in/fr-paris/neuilly-sur-seine\n",
      "https://www.fresha.com/lp/en/bt/hair-salons/in/fr-paris/champs\n",
      "https://www.fresha.com/lp/en/bt/hair-salons/in/fr-paris/rÃ©publique-point-du-jour\n",
      "https://www.fresha.com/lp/en/bt/hair-salons/in/fr-paris/neuilly-auteuil-passy\n",
      "https://www.fresha.com/lp/en/bt/hair-salons/in/fr-paris/eiffel\n",
      "https://www.fresha.com/lp/en/bt/hair-salons/in/fr-paris/vendome\n",
      "https://www.fresha.com/lp/en/bt/hair-salons/in/fr-paris/les-princes-marmottan\n",
      "https://www.fresha.com/lp/en/bt/hair-salons/in/fr-paris/parc-henri-barbusse\n",
      "https://www.fresha.com/lp/en/bt/hair-salons/in/fr-paris/mairie-iv\n",
      "https://www.fresha.com/lp/en/bt/hair-salons/in/fr-paris/citÃ©-nouvelle\n",
      "https://www.fresha.com/lp/en/bt/hair-salons/in/fr-paris/boulevard-gallieni\n",
      "https://www.fresha.com/lp/en/bt/hair-salons/in/fr-paris/villeneuve-la-garenne\n",
      "https://www.fresha.com/lp/en/bt/hair-salons/in/fr-paris/gambetta\n",
      "https://www.fresha.com/lp/en/bt/hair-salons/in/fr-paris/gresillons-iii\n",
      "https://www.fresha.com/lp/en/bt/hair-salons/in/fr-paris/zilina-henri-martin\n",
      "https://www.fresha.com/lp/en/bt/hair-salons/in/fr-paris/henri-barbusse\n",
      "https://www.fresha.com/lp/en/bt/hair-salons/in/fr-paris/calmette\n",
      "https://www.fresha.com/lp/en/bt/hair-salons/in/fr-paris/goulvents\n",
      "https://www.fresha.com/lp/en/bt/hair-salons/in/fr-paris/mozart\n",
      "https://www.fresha.com/lp/en/bt/hair-salons/in/fr-paris/alfred-sisley\n",
      "https://www.fresha.com/lp/en/bt/hair-salons/in/fr-paris/pasteur-gesnouin\n",
      "https://www.fresha.com/lp/en/bt/hair-salons/in/fr-paris/agora\n",
      "https://www.fresha.com/lp/en/bt/hair-salons/in/fr-paris/dubonnet\n",
      "https://www.fresha.com/lp/en/bt/hair-salons/in/fr-paris/gresillons-ii\n",
      "https://www.fresha.com/lp/en/bt/hair-salons/in/fr-paris/champs\n",
      "https://www.fresha.com/lp/en/bt/hair-salons/in/fr-paris/dubonnet\n",
      "https://www.fresha.com/lp/en/bt/hair-salons/in/fr-paris/eiffel\n",
      "https://www.fresha.com/lp/en/bt/hair-salons/in/fr-paris/citÃ©-jardins\n",
      "https://www.fresha.com/lp/en/bt/hair-salons/in/fr-paris/chemins-des-vignes\n",
      "https://www.fresha.com/lp/en/bt/hair-salons/in/fr-paris/bÃ©con-les-bruyÃ¨res\n",
      "https://www.fresha.com/lp/en/bt/hair-salons/in/fr-paris/les-princes-marmottan\n",
      "https://www.fresha.com/lp/en/bt/hair-salons/in/fr-paris/renards\n",
      "https://www.fresha.com/lp/en/bt/hair-salons/in/fr-paris/jean-baptiste-clÃ©ment\n",
      "https://www.fresha.com/lp/en/bt/hair-salons/in/fr-paris/bergÃ¨re-sud\n",
      "https://www.fresha.com/lp/en/bt/hair-salons/in/fr-paris/mairie-iv\n",
      "https://www.fresha.com/lp/en/bt/hair-salons/in/fr-paris/kruger\n",
      "https://www.fresha.com/lp/en/bt/hair-salons/in/fr-paris/epinettes\n",
      "https://www.fresha.com/lp/en/bt/hair-salons/in/fr-paris/plateau\n",
      "https://www.fresha.com/lp/en/bt/hair-salons/in/fr-paris/citÃ©-nouvelle\n",
      "https://www.fresha.com/lp/en/bt/hair-salons/in/fr-paris/visien\n",
      "https://www.fresha.com/lp/en/bt/hair-salons/in/fr-paris/gambetta\n",
      "https://www.fresha.com/lp/en/bt/hair-salons/in/fr-paris/zilina-henri-martin\n",
      "https://www.fresha.com/lp/en/bt/hair-salons/in/fr-paris/asniÃ¨res-sur-seine\n",
      "https://www.fresha.com/lp/en/bt/hair-salons/in/fr-paris/villiers-louise-michel\n",
      "https://www.fresha.com/lp/en/bt/hair-salons/in/fr-paris/stade\n",
      "https://www.fresha.com/lp/en/bt/hair-salons/in/fr-paris/calmette\n",
      "https://www.fresha.com/lp/en/bt/hair-salons/in/fr-paris/gresillons-ii\n",
      "https://www.fresha.com/lp/en/bt/hair-salons/in/fr-paris/goulvents\n",
      "https://www.fresha.com/lp/en/bt/hair-salons/in/fr-paris/la-plaine-monceau\n",
      "https://www.fresha.com\n",
      "https://www.fresha.com/app-store-redirect\n",
      "https://www.fresha.com/careers\n",
      "https://www.fresha.com/contact-us\n",
      "https://www.fresha.com/blog\n",
      "https://www.fresha.com/sitemap\n",
      "https://www.fresha.com/for-business\n",
      "https://www.fresha.com/pricing\n",
      "https://www.fresha.com/card-terminals\n",
      "https://support.fresha.com\n",
      "https://terms.fresha.com/privacy-policy\n",
      "https://terms.fresha.com/terms-service\n",
      "https://terms.fresha.com/terms-use\n",
      "https://www.facebook.com/Fresha-1504479806470099\n",
      "https://twitter.com/heyfresha?lang=en\n",
      "https://www.linkedin.com/company/shedul/\n",
      "https://www.instagram.com/fresha\n"
     ]
    }
   ],
   "source": [
    "from bs4 import BeautifulSoup\n",
    "# Send a GET request to the URL\n",
    "response = requests.get(url)\n",
    "\n",
    "# Check if the request was successful (status code 200)\n",
    "if response.status_code == 200:\n",
    "    # Parse the HTML content of the page\n",
    "    soup = BeautifulSoup(response.text, 'html.parser')\n",
    "\n",
    "    # Find all anchor (a) tags with href attributes\n",
    "    all_links = soup.find_all('a', href=True)\n",
    "\n",
    "    # Print or process the href attributes\n",
    "    for link in all_links:\n",
    "        print(link['href'])\n",
    "else:\n",
    "    print(f\"Failed to retrieve the\")"
   ]
  },
  {
   "cell_type": "code",
   "execution_count": 132,
   "metadata": {},
   "outputs": [],
   "source": [
    "import re\n",
    "\n",
    "def remove_html_tags_with_re(html_content):\n",
    "    try:\n",
    "        # Ensure that the input is a string or bytes-like object\n",
    "        cleaned_content = re.sub(r'<.*?>', '', str(html_content))\n",
    "        return cleaned_content\n",
    "    except Exception as e:\n",
    "        print(f\"Error: {e}\")\n",
    "        return None"
   ]
  },
  {
   "cell_type": "code",
   "execution_count": null,
   "metadata": {},
   "outputs": [],
   "source": [
    "# Find the <a> tag with the specified class\n",
    "phone_number_tag = soup.find_all('a', class_='OP1nBW')\n",
    "data = {\n",
    "    \"salon_name\": remove_html_tags_with_re(soup.find_all(\"p\",class_=\"axDOAG zL1l9a T2Ht61\")),\n",
    "    \"salon_location\": remove_html_tags_with_re(soup.find_all(\"p\",class_=\"axDOAG TE8kwS DbgFmO T2Ht61 fTV3EB\")),\n",
    "    \"salon_url\": [a_tag.get('href') for a_tag in soup.find_all('a',class_=\"HdNCnr\")],\n",
    "}"
   ]
  },
  {
   "cell_type": "code",
   "execution_count": null,
   "metadata": {},
   "outputs": [],
   "source": [
    "import pandas as pd\n",
    "\n",
    "df = pd.DataFrame(data)"
   ]
  },
  {
   "cell_type": "code",
   "execution_count": 180,
   "metadata": {},
   "outputs": [
    {
     "data": {
      "text/plain": [
       "'https://www.fresha.com/lvp/barber-town-avenue-des-gresillons-asnieres-sur-seine-bxLJNE'"
      ]
     },
     "execution_count": 180,
     "metadata": {},
     "output_type": "execute_result"
    }
   ],
   "source": [
    "df[\"salon_url\"][1]"
   ]
  },
  {
   "cell_type": "code",
   "execution_count": null,
   "metadata": {},
   "outputs": [],
   "source": [
    "df.to_csv(r\"C:\\Users\\shade alarbed\\Downloads\\salon data\\salon_paris.csv\")"
   ]
  },
  {
   "cell_type": "code",
   "execution_count": 190,
   "metadata": {},
   "outputs": [],
   "source": [
    "def scrap_content(soup):\n",
    "    salons = {\n",
    "        \"webssit\": a_tag.get('href') for a_tag in soup.find_all('a',id=\"react-aria-12\")\n",
    "    }\n",
    "    return salons"
   ]
  },
  {
   "cell_type": "code",
   "execution_count": 191,
   "metadata": {},
   "outputs": [],
   "source": [
    "salons = []\n",
    "for salon in df[\"salon_url\"]:\n",
    "    response = requests.get(salon)\n",
    "    soup = BeautifulSoup(response.text, 'html.parser')\n",
    "    salons.append(scrap_content(soup))\n",
    "    "
   ]
  },
  {
   "cell_type": "code",
   "execution_count": 192,
   "metadata": {},
   "outputs": [
    {
     "data": {
      "text/plain": [
       "[{},\n",
       " {'webssit': 'https://www.barbertown.fr/'},\n",
       " {},\n",
       " {'webssit': 'https://tagbarbershop.fr/'},\n",
       " {'webssit': 'http://www.flashbackbarber.fr/'},\n",
       " {'webssit': 'https://www.benefitcosmetics.com/fr-fr'},\n",
       " {},\n",
       " {},\n",
       " {},\n",
       " {},\n",
       " {'webssit': 'http://www.barbersurseine.fr/'},\n",
       " {'webssit': 'https://les-jardins-de-saida.fr/'},\n",
       " {'webssit': 'http://institut-reyana.fr/'},\n",
       " {'webssit': 'https://anouchkaleblanc.fr/'},\n",
       " {'webssit': 'https://www.benefitcosmetics.com/fr-fr'},\n",
       " {'webssit': 'http://www.beautyssime.fr/'},\n",
       " {'webssit': '/search?category-id=5&sort=recommended'},\n",
       " {'webssit': 'https://taplink.cc/obarasourcil'},\n",
       " {'webssit': '/search?category-id=3&sort=recommended'},\n",
       " {},\n",
       " {'webssit': 'http://www.unmomentdebeaute.fr/'},\n",
       " {'webssit': 'https://www.planity.com/hair-care-92000-nanterre'},\n",
       " {'webssit': 'http://joes-barbershop-hair-salon.business.site/'},\n",
       " {'webssit': 'https://charles-b-barbers.com/'},\n",
       " {'webssit': 'http://www.mbcoiffure.com/'},\n",
       " {'webssit': 'http://planity.com/karamela-92110-clichy'},\n",
       " {'webssit': 'https://misencil.fr/'},\n",
       " {'webssit': '/search?category-id=3&sort=recommended'},\n",
       " {'webssit': 'https://www.agathemarieparis.fr/'},\n",
       " {},\n",
       " {'webssit': 'https://salon.ericstipa.com/stores/salon-eric-stipa-asnieres/'},\n",
       " {'webssit': 'https://www.saint-algue.com/salon-4353/salon/4-boulevard-gallieni-92390-villeneuve-la-garenne'},\n",
       " {},\n",
       " {'webssit': 'https://www.planity.com/emilie-beaute-92110-clichy'},\n",
       " {'webssit': 'http://www.institut-equilibre-beaute-clichy.fr/'},\n",
       " {'webssit': 'https://alicelashes.simplybook.it/v2/#'},\n",
       " {'webssit': 'https://salons.atelierintermede.fr/fr/coiffeur/france-33/hauts-de-seine-92/courbevoie-92026/atelier-intermede-3531'},\n",
       " {},\n",
       " {},\n",
       " {},\n",
       " {'webssit': 'https://www.cryowell-institut.fr/'},\n",
       " {'webssit': 'http://www.parasens.fr/'},\n",
       " {'webssit': 'http://www.zen-attitude-spa.com/'},\n",
       " {},\n",
       " {},\n",
       " {},\n",
       " {'webssit': 'https://ousbarbershop.business.site/'},\n",
       " {'webssit': 'https://www.planity.com/loulou-nails-clichy-92110'},\n",
       " {'webssit': 'https://www.planity.com/esthetika-92100-boulogne-billancourt'},\n",
       " {'webssit': 'https://www.uala.fr/venues/27889/widget'},\n",
       " {'webssit': 'https://www.shinehairandbeauty.fr/'},\n",
       " {'webssit': 'https://www.herabay.fr/'},\n",
       " {'webssit': 'http://www.spa-aquamomento.com/'},\n",
       " {'webssit': 'https://website-578369016039048215313-nailsalon.business.site/'},\n",
       " {'webssit': 'http://www.luxurysunbeauty.fr/'},\n",
       " {},\n",
       " {'webssit': 'https://www.planity.com/o-zoli-nails-92110-clichy-8e1'},\n",
       " {},\n",
       " {}]"
      ]
     },
     "execution_count": 192,
     "metadata": {},
     "output_type": "execute_result"
    }
   ],
   "source": [
    "salons"
   ]
  },
  {
   "cell_type": "code",
   "execution_count": 193,
   "metadata": {},
   "outputs": [],
   "source": [
    "df1 = pd.DataFrame(salons)"
   ]
  },
  {
   "cell_type": "code",
   "execution_count": 194,
   "metadata": {},
   "outputs": [],
   "source": [
    "df1.to_csv(r\"C:\\Users\\shade alarbed\\Downloads\\salon data\\salon_paris_url.csv\")"
   ]
  },
  {
   "cell_type": "code",
   "execution_count": 159,
   "metadata": {},
   "outputs": [],
   "source": [
    "response = requests.get(\"https://www.fresha.com/a/glow-job-paris-26-rue-notre-dame-de-nazareth-bu5ct0xe/booking\")\n",
    "soup = BeautifulSoup(response.text, 'html.parser')"
   ]
  },
  {
   "cell_type": "code",
   "execution_count": 166,
   "metadata": {},
   "outputs": [],
   "source": [
    "serv = soup.find_all(\"div\",class_=\"_2rJt5y\")"
   ]
  },
  {
   "cell_type": "code",
   "execution_count": 165,
   "metadata": {},
   "outputs": [
    {
     "data": {
      "text/plain": [
       "[]"
      ]
     },
     "execution_count": 165,
     "metadata": {},
     "output_type": "execute_result"
    }
   ],
   "source": [
    "serv"
   ]
  },
  {
   "cell_type": "code",
   "execution_count": 174,
   "metadata": {},
   "outputs": [],
   "source": [
    "def scrap_service(soup):\n",
    "    salons = {\n",
    "        \"service name\": remove_html_tags_with_re(soup.find_all(\"h3\",id=\"label-s:5051703\")),\n",
    "        \"time\": remove_html_tags_with_re(soup.find_all(\"p\",class_=\"_-wKgxq font-default-body-m-medium mb-default-25x\")),\n",
    "        \"description\": remove_html_tags_with_re(soup.find_all(\"p\",class_=\"_-wKgxq u4xwZq ZCvNLq KfKHkq font-default-body-s-regular\")),\n",
    "        \"price\": remove_html_tags_with_re(soup.find_all(\"span\",class_=\"_5zCVQX gap-default-100 direction-default-horizontal display-default-inline-flex _41Ivo5\"))\n",
    "    }\n",
    "    return salons"
   ]
  },
  {
   "cell_type": "code",
   "execution_count": 179,
   "metadata": {},
   "outputs": [
    {
     "data": {
      "text/plain": [
       "'https://www.fresha.com/lvp/jean-louis-david-coiffeur-colombes-rue-saint-denis-colombes-8JM2oQ'"
      ]
     },
     "execution_count": 179,
     "metadata": {},
     "output_type": "execute_result"
    }
   ],
   "source": [
    "df[\"salon_url\"][0]"
   ]
  },
  {
   "cell_type": "code",
   "execution_count": null,
   "metadata": {},
   "outputs": [],
   "source": [
    "salons_service = []\n",
    "driver = webdriver.Chrome()\n",
    "for salon in df[\"salon_url\"]:\n",
    "    driver.get('{}/booking'.format(salon))\n",
    "    soup = BeautifulSoup(driver.page_source, 'html.parser')\n",
    "    salons_service.append(scrap_service(soup))"
   ]
  },
  {
   "cell_type": "code",
   "execution_count": 168,
   "metadata": {},
   "outputs": [],
   "source": [
    "driver = webdriver.Chrome()\n",
    "driver.get('https://www.fresha.com/a/glow-job-paris-26-rue-notre-dame-de-nazareth-bu5ct0xe/booking')"
   ]
  },
  {
   "cell_type": "code",
   "execution_count": 171,
   "metadata": {},
   "outputs": [],
   "source": [
    "page_source = driver.page_source\n",
    "soup = BeautifulSoup(page_source, 'html.parser')\n",
    "serv = soup.find_all(\"h3\",id=\"label-s:11875267\")"
   ]
  },
  {
   "cell_type": "code",
   "execution_count": 173,
   "metadata": {},
   "outputs": [
    {
     "data": {
      "text/plain": [
       "'[Blow dry]'"
      ]
     },
     "execution_count": 173,
     "metadata": {},
     "output_type": "execute_result"
    }
   ],
   "source": [
    "remove_html_tags_with_re(serv)"
   ]
  },
  {
   "cell_type": "code",
   "execution_count": 2,
   "metadata": {},
   "outputs": [],
   "source": [
    "url = \"https://www.planity.com/coiffeur/gp_ChIJ_fju9ukE9UcROuOAIn5wRjk/page-1\""
   ]
  },
  {
   "cell_type": "code",
   "execution_count": null,
   "metadata": {},
   "outputs": [],
   "source": []
  },
  {
   "cell_type": "code",
   "execution_count": 5,
   "metadata": {},
   "outputs": [],
   "source": [
    "driver = webdriver.Chrome()\n",
    "driver.get(url)"
   ]
  },
  {
   "cell_type": "code",
   "execution_count": null,
   "metadata": {},
   "outputs": [],
   "source": []
  }
 ],
 "metadata": {
  "kernelspec": {
   "display_name": "Python 3.8.8 ('base')",
   "language": "python",
   "name": "python3"
  },
  "language_info": {
   "codemirror_mode": {
    "name": "ipython",
    "version": 3
   },
   "file_extension": ".py",
   "mimetype": "text/x-python",
   "name": "python",
   "nbconvert_exporter": "python",
   "pygments_lexer": "ipython3",
   "version": "3.8.8"
  },
  "orig_nbformat": 4,
  "vscode": {
   "interpreter": {
    "hash": "499611cf682617453859df28d764ba83355b90631bd475eb5194b9b626bbcbe7"
   }
  }
 },
 "nbformat": 4,
 "nbformat_minor": 2
}
